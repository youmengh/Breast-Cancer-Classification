{
 "cells": [
  {
   "cell_type": "markdown",
   "id": "c99162e8-cc04-4c37-b52a-8132bfc3a6ec",
   "metadata": {},
   "source": [
    "# M 368 Final Project - Breast Cancer Classification\n",
    "## Youmeng Hin & Rahul Kumar\n",
    "## 5/8/2022\n",
    "### Data preparation"
   ]
  },
  {
   "cell_type": "code",
   "execution_count": 1,
   "id": "23f99e76-3fc8-4ee5-b927-5192a94bbb90",
   "metadata": {},
   "outputs": [],
   "source": [
    "# set seed for consistent results\n",
    "set.seed(1)"
   ]
  },
  {
   "cell_type": "code",
   "execution_count": 2,
   "id": "d0d40bc8-dbe7-44c2-8aca-e204d3cd27fa",
   "metadata": {},
   "outputs": [
    {
     "data": {
      "text/html": [
       "TRUE"
      ],
      "text/latex": [
       "TRUE"
      ],
      "text/markdown": [
       "TRUE"
      ],
      "text/plain": [
       "[1] TRUE"
      ]
     },
     "metadata": {},
     "output_type": "display_data"
    }
   ],
   "source": [
    "# load data from csv file\n",
    "bc <- read.csv(\"breast-cancer.csv\")\n",
    "\n",
    "# check if dataset is a dataframe\n",
    "is.data.frame(bc)"
   ]
  },
  {
   "cell_type": "code",
   "execution_count": 3,
   "id": "b32986d6-5583-4d3a-9a4b-471574b04e5e",
   "metadata": {},
   "outputs": [
    {
     "data": {
      "text/html": [
       "<style>\n",
       ".list-inline {list-style: none; margin:0; padding: 0}\n",
       ".list-inline>li {display: inline-block}\n",
       ".list-inline>li:not(:last-child)::after {content: \"\\00b7\"; padding: 0 .5ex}\n",
       "</style>\n",
       "<ol class=list-inline><li>569</li><li>32</li></ol>\n"
      ],
      "text/latex": [
       "\\begin{enumerate*}\n",
       "\\item 569\n",
       "\\item 32\n",
       "\\end{enumerate*}\n"
      ],
      "text/markdown": [
       "1. 569\n",
       "2. 32\n",
       "\n",
       "\n"
      ],
      "text/plain": [
       "[1] 569  32"
      ]
     },
     "metadata": {},
     "output_type": "display_data"
    },
    {
     "data": {
      "text/html": [
       "<table class=\"dataframe\">\n",
       "<caption>A data.frame: 6 × 32</caption>\n",
       "<thead>\n",
       "\t<tr><th></th><th scope=col>id</th><th scope=col>diagnosis</th><th scope=col>radius_mean</th><th scope=col>texture_mean</th><th scope=col>perimeter_mean</th><th scope=col>area_mean</th><th scope=col>smoothness_mean</th><th scope=col>compactness_mean</th><th scope=col>concavity_mean</th><th scope=col>concave.points_mean</th><th scope=col>...</th><th scope=col>radius_worst</th><th scope=col>texture_worst</th><th scope=col>perimeter_worst</th><th scope=col>area_worst</th><th scope=col>smoothness_worst</th><th scope=col>compactness_worst</th><th scope=col>concavity_worst</th><th scope=col>concave.points_worst</th><th scope=col>symmetry_worst</th><th scope=col>fractal_dimension_worst</th></tr>\n",
       "\t<tr><th></th><th scope=col>&lt;int&gt;</th><th scope=col>&lt;chr&gt;</th><th scope=col>&lt;dbl&gt;</th><th scope=col>&lt;dbl&gt;</th><th scope=col>&lt;dbl&gt;</th><th scope=col>&lt;dbl&gt;</th><th scope=col>&lt;dbl&gt;</th><th scope=col>&lt;dbl&gt;</th><th scope=col>&lt;dbl&gt;</th><th scope=col>&lt;dbl&gt;</th><th scope=col>...</th><th scope=col>&lt;dbl&gt;</th><th scope=col>&lt;dbl&gt;</th><th scope=col>&lt;dbl&gt;</th><th scope=col>&lt;dbl&gt;</th><th scope=col>&lt;dbl&gt;</th><th scope=col>&lt;dbl&gt;</th><th scope=col>&lt;dbl&gt;</th><th scope=col>&lt;dbl&gt;</th><th scope=col>&lt;dbl&gt;</th><th scope=col>&lt;dbl&gt;</th></tr>\n",
       "</thead>\n",
       "<tbody>\n",
       "\t<tr><th scope=row>1</th><td>  842302</td><td>M</td><td>17.99</td><td>10.38</td><td>122.80</td><td>1001.0</td><td>0.11840</td><td>0.27760</td><td>0.3001</td><td>0.14710</td><td>...</td><td>25.38</td><td>17.33</td><td>184.60</td><td>2019.0</td><td>0.1622</td><td>0.6656</td><td>0.7119</td><td>0.2654</td><td>0.4601</td><td>0.11890</td></tr>\n",
       "\t<tr><th scope=row>2</th><td>  842517</td><td>M</td><td>20.57</td><td>17.77</td><td>132.90</td><td>1326.0</td><td>0.08474</td><td>0.07864</td><td>0.0869</td><td>0.07017</td><td>...</td><td>24.99</td><td>23.41</td><td>158.80</td><td>1956.0</td><td>0.1238</td><td>0.1866</td><td>0.2416</td><td>0.1860</td><td>0.2750</td><td>0.08902</td></tr>\n",
       "\t<tr><th scope=row>3</th><td>84300903</td><td>M</td><td>19.69</td><td>21.25</td><td>130.00</td><td>1203.0</td><td>0.10960</td><td>0.15990</td><td>0.1974</td><td>0.12790</td><td>...</td><td>23.57</td><td>25.53</td><td>152.50</td><td>1709.0</td><td>0.1444</td><td>0.4245</td><td>0.4504</td><td>0.2430</td><td>0.3613</td><td>0.08758</td></tr>\n",
       "\t<tr><th scope=row>4</th><td>84348301</td><td>M</td><td>11.42</td><td>20.38</td><td> 77.58</td><td> 386.1</td><td>0.14250</td><td>0.28390</td><td>0.2414</td><td>0.10520</td><td>...</td><td>14.91</td><td>26.50</td><td> 98.87</td><td> 567.7</td><td>0.2098</td><td>0.8663</td><td>0.6869</td><td>0.2575</td><td>0.6638</td><td>0.17300</td></tr>\n",
       "\t<tr><th scope=row>5</th><td>84358402</td><td>M</td><td>20.29</td><td>14.34</td><td>135.10</td><td>1297.0</td><td>0.10030</td><td>0.13280</td><td>0.1980</td><td>0.10430</td><td>...</td><td>22.54</td><td>16.67</td><td>152.20</td><td>1575.0</td><td>0.1374</td><td>0.2050</td><td>0.4000</td><td>0.1625</td><td>0.2364</td><td>0.07678</td></tr>\n",
       "\t<tr><th scope=row>6</th><td>  843786</td><td>M</td><td>12.45</td><td>15.70</td><td> 82.57</td><td> 477.1</td><td>0.12780</td><td>0.17000</td><td>0.1578</td><td>0.08089</td><td>...</td><td>15.47</td><td>23.75</td><td>103.40</td><td> 741.6</td><td>0.1791</td><td>0.5249</td><td>0.5355</td><td>0.1741</td><td>0.3985</td><td>0.12440</td></tr>\n",
       "</tbody>\n",
       "</table>\n"
      ],
      "text/latex": [
       "A data.frame: 6 × 32\n",
       "\\begin{tabular}{r|lllllllllllllllllllll}\n",
       "  & id & diagnosis & radius\\_mean & texture\\_mean & perimeter\\_mean & area\\_mean & smoothness\\_mean & compactness\\_mean & concavity\\_mean & concave.points\\_mean & ... & radius\\_worst & texture\\_worst & perimeter\\_worst & area\\_worst & smoothness\\_worst & compactness\\_worst & concavity\\_worst & concave.points\\_worst & symmetry\\_worst & fractal\\_dimension\\_worst\\\\\n",
       "  & <int> & <chr> & <dbl> & <dbl> & <dbl> & <dbl> & <dbl> & <dbl> & <dbl> & <dbl> & ... & <dbl> & <dbl> & <dbl> & <dbl> & <dbl> & <dbl> & <dbl> & <dbl> & <dbl> & <dbl>\\\\\n",
       "\\hline\n",
       "\t1 &   842302 & M & 17.99 & 10.38 & 122.80 & 1001.0 & 0.11840 & 0.27760 & 0.3001 & 0.14710 & ... & 25.38 & 17.33 & 184.60 & 2019.0 & 0.1622 & 0.6656 & 0.7119 & 0.2654 & 0.4601 & 0.11890\\\\\n",
       "\t2 &   842517 & M & 20.57 & 17.77 & 132.90 & 1326.0 & 0.08474 & 0.07864 & 0.0869 & 0.07017 & ... & 24.99 & 23.41 & 158.80 & 1956.0 & 0.1238 & 0.1866 & 0.2416 & 0.1860 & 0.2750 & 0.08902\\\\\n",
       "\t3 & 84300903 & M & 19.69 & 21.25 & 130.00 & 1203.0 & 0.10960 & 0.15990 & 0.1974 & 0.12790 & ... & 23.57 & 25.53 & 152.50 & 1709.0 & 0.1444 & 0.4245 & 0.4504 & 0.2430 & 0.3613 & 0.08758\\\\\n",
       "\t4 & 84348301 & M & 11.42 & 20.38 &  77.58 &  386.1 & 0.14250 & 0.28390 & 0.2414 & 0.10520 & ... & 14.91 & 26.50 &  98.87 &  567.7 & 0.2098 & 0.8663 & 0.6869 & 0.2575 & 0.6638 & 0.17300\\\\\n",
       "\t5 & 84358402 & M & 20.29 & 14.34 & 135.10 & 1297.0 & 0.10030 & 0.13280 & 0.1980 & 0.10430 & ... & 22.54 & 16.67 & 152.20 & 1575.0 & 0.1374 & 0.2050 & 0.4000 & 0.1625 & 0.2364 & 0.07678\\\\\n",
       "\t6 &   843786 & M & 12.45 & 15.70 &  82.57 &  477.1 & 0.12780 & 0.17000 & 0.1578 & 0.08089 & ... & 15.47 & 23.75 & 103.40 &  741.6 & 0.1791 & 0.5249 & 0.5355 & 0.1741 & 0.3985 & 0.12440\\\\\n",
       "\\end{tabular}\n"
      ],
      "text/markdown": [
       "\n",
       "A data.frame: 6 × 32\n",
       "\n",
       "| <!--/--> | id &lt;int&gt; | diagnosis &lt;chr&gt; | radius_mean &lt;dbl&gt; | texture_mean &lt;dbl&gt; | perimeter_mean &lt;dbl&gt; | area_mean &lt;dbl&gt; | smoothness_mean &lt;dbl&gt; | compactness_mean &lt;dbl&gt; | concavity_mean &lt;dbl&gt; | concave.points_mean &lt;dbl&gt; | ... ... | radius_worst &lt;dbl&gt; | texture_worst &lt;dbl&gt; | perimeter_worst &lt;dbl&gt; | area_worst &lt;dbl&gt; | smoothness_worst &lt;dbl&gt; | compactness_worst &lt;dbl&gt; | concavity_worst &lt;dbl&gt; | concave.points_worst &lt;dbl&gt; | symmetry_worst &lt;dbl&gt; | fractal_dimension_worst &lt;dbl&gt; |\n",
       "|---|---|---|---|---|---|---|---|---|---|---|---|---|---|---|---|---|---|---|---|---|---|\n",
       "| 1 |   842302 | M | 17.99 | 10.38 | 122.80 | 1001.0 | 0.11840 | 0.27760 | 0.3001 | 0.14710 | ... | 25.38 | 17.33 | 184.60 | 2019.0 | 0.1622 | 0.6656 | 0.7119 | 0.2654 | 0.4601 | 0.11890 |\n",
       "| 2 |   842517 | M | 20.57 | 17.77 | 132.90 | 1326.0 | 0.08474 | 0.07864 | 0.0869 | 0.07017 | ... | 24.99 | 23.41 | 158.80 | 1956.0 | 0.1238 | 0.1866 | 0.2416 | 0.1860 | 0.2750 | 0.08902 |\n",
       "| 3 | 84300903 | M | 19.69 | 21.25 | 130.00 | 1203.0 | 0.10960 | 0.15990 | 0.1974 | 0.12790 | ... | 23.57 | 25.53 | 152.50 | 1709.0 | 0.1444 | 0.4245 | 0.4504 | 0.2430 | 0.3613 | 0.08758 |\n",
       "| 4 | 84348301 | M | 11.42 | 20.38 |  77.58 |  386.1 | 0.14250 | 0.28390 | 0.2414 | 0.10520 | ... | 14.91 | 26.50 |  98.87 |  567.7 | 0.2098 | 0.8663 | 0.6869 | 0.2575 | 0.6638 | 0.17300 |\n",
       "| 5 | 84358402 | M | 20.29 | 14.34 | 135.10 | 1297.0 | 0.10030 | 0.13280 | 0.1980 | 0.10430 | ... | 22.54 | 16.67 | 152.20 | 1575.0 | 0.1374 | 0.2050 | 0.4000 | 0.1625 | 0.2364 | 0.07678 |\n",
       "| 6 |   843786 | M | 12.45 | 15.70 |  82.57 |  477.1 | 0.12780 | 0.17000 | 0.1578 | 0.08089 | ... | 15.47 | 23.75 | 103.40 |  741.6 | 0.1791 | 0.5249 | 0.5355 | 0.1741 | 0.3985 | 0.12440 |\n",
       "\n"
      ],
      "text/plain": [
       "  id       diagnosis radius_mean texture_mean perimeter_mean area_mean\n",
       "1   842302 M         17.99       10.38        122.80         1001.0   \n",
       "2   842517 M         20.57       17.77        132.90         1326.0   \n",
       "3 84300903 M         19.69       21.25        130.00         1203.0   \n",
       "4 84348301 M         11.42       20.38         77.58          386.1   \n",
       "5 84358402 M         20.29       14.34        135.10         1297.0   \n",
       "6   843786 M         12.45       15.70         82.57          477.1   \n",
       "  smoothness_mean compactness_mean concavity_mean concave.points_mean ...\n",
       "1 0.11840         0.27760          0.3001         0.14710             ...\n",
       "2 0.08474         0.07864          0.0869         0.07017             ...\n",
       "3 0.10960         0.15990          0.1974         0.12790             ...\n",
       "4 0.14250         0.28390          0.2414         0.10520             ...\n",
       "5 0.10030         0.13280          0.1980         0.10430             ...\n",
       "6 0.12780         0.17000          0.1578         0.08089             ...\n",
       "  radius_worst texture_worst perimeter_worst area_worst smoothness_worst\n",
       "1 25.38        17.33         184.60          2019.0     0.1622          \n",
       "2 24.99        23.41         158.80          1956.0     0.1238          \n",
       "3 23.57        25.53         152.50          1709.0     0.1444          \n",
       "4 14.91        26.50          98.87           567.7     0.2098          \n",
       "5 22.54        16.67         152.20          1575.0     0.1374          \n",
       "6 15.47        23.75         103.40           741.6     0.1791          \n",
       "  compactness_worst concavity_worst concave.points_worst symmetry_worst\n",
       "1 0.6656            0.7119          0.2654               0.4601        \n",
       "2 0.1866            0.2416          0.1860               0.2750        \n",
       "3 0.4245            0.4504          0.2430               0.3613        \n",
       "4 0.8663            0.6869          0.2575               0.6638        \n",
       "5 0.2050            0.4000          0.1625               0.2364        \n",
       "6 0.5249            0.5355          0.1741               0.3985        \n",
       "  fractal_dimension_worst\n",
       "1 0.11890                \n",
       "2 0.08902                \n",
       "3 0.08758                \n",
       "4 0.17300                \n",
       "5 0.07678                \n",
       "6 0.12440                "
      ]
     },
     "metadata": {},
     "output_type": "display_data"
    }
   ],
   "source": [
    "# check dimension of dataset\n",
    "dim(bc)\n",
    "head(bc)"
   ]
  },
  {
   "cell_type": "code",
   "execution_count": 4,
   "id": "23cc8eb9-0e57-4d5f-a92a-33b8c4e2c214",
   "metadata": {},
   "outputs": [
    {
     "data": {
      "text/html": [
       "<style>\n",
       ".list-inline {list-style: none; margin:0; padding: 0}\n",
       ".list-inline>li {display: inline-block}\n",
       ".list-inline>li:not(:last-child)::after {content: \"\\00b7\"; padding: 0 .5ex}\n",
       "</style>\n",
       "<ol class=list-inline><li>'id'</li><li>'diagnosis'</li><li>'radius_mean'</li><li>'texture_mean'</li><li>'perimeter_mean'</li><li>'area_mean'</li><li>'smoothness_mean'</li><li>'compactness_mean'</li><li>'concavity_mean'</li><li>'concave.points_mean'</li><li>'symmetry_mean'</li><li>'fractal_dimension_mean'</li><li>'radius_se'</li><li>'texture_se'</li><li>'perimeter_se'</li><li>'area_se'</li><li>'smoothness_se'</li><li>'compactness_se'</li><li>'concavity_se'</li><li>'concave.points_se'</li><li>'symmetry_se'</li><li>'fractal_dimension_se'</li><li>'radius_worst'</li><li>'texture_worst'</li><li>'perimeter_worst'</li><li>'area_worst'</li><li>'smoothness_worst'</li><li>'compactness_worst'</li><li>'concavity_worst'</li><li>'concave.points_worst'</li><li>'symmetry_worst'</li><li>'fractal_dimension_worst'</li></ol>\n"
      ],
      "text/latex": [
       "\\begin{enumerate*}\n",
       "\\item 'id'\n",
       "\\item 'diagnosis'\n",
       "\\item 'radius\\_mean'\n",
       "\\item 'texture\\_mean'\n",
       "\\item 'perimeter\\_mean'\n",
       "\\item 'area\\_mean'\n",
       "\\item 'smoothness\\_mean'\n",
       "\\item 'compactness\\_mean'\n",
       "\\item 'concavity\\_mean'\n",
       "\\item 'concave.points\\_mean'\n",
       "\\item 'symmetry\\_mean'\n",
       "\\item 'fractal\\_dimension\\_mean'\n",
       "\\item 'radius\\_se'\n",
       "\\item 'texture\\_se'\n",
       "\\item 'perimeter\\_se'\n",
       "\\item 'area\\_se'\n",
       "\\item 'smoothness\\_se'\n",
       "\\item 'compactness\\_se'\n",
       "\\item 'concavity\\_se'\n",
       "\\item 'concave.points\\_se'\n",
       "\\item 'symmetry\\_se'\n",
       "\\item 'fractal\\_dimension\\_se'\n",
       "\\item 'radius\\_worst'\n",
       "\\item 'texture\\_worst'\n",
       "\\item 'perimeter\\_worst'\n",
       "\\item 'area\\_worst'\n",
       "\\item 'smoothness\\_worst'\n",
       "\\item 'compactness\\_worst'\n",
       "\\item 'concavity\\_worst'\n",
       "\\item 'concave.points\\_worst'\n",
       "\\item 'symmetry\\_worst'\n",
       "\\item 'fractal\\_dimension\\_worst'\n",
       "\\end{enumerate*}\n"
      ],
      "text/markdown": [
       "1. 'id'\n",
       "2. 'diagnosis'\n",
       "3. 'radius_mean'\n",
       "4. 'texture_mean'\n",
       "5. 'perimeter_mean'\n",
       "6. 'area_mean'\n",
       "7. 'smoothness_mean'\n",
       "8. 'compactness_mean'\n",
       "9. 'concavity_mean'\n",
       "10. 'concave.points_mean'\n",
       "11. 'symmetry_mean'\n",
       "12. 'fractal_dimension_mean'\n",
       "13. 'radius_se'\n",
       "14. 'texture_se'\n",
       "15. 'perimeter_se'\n",
       "16. 'area_se'\n",
       "17. 'smoothness_se'\n",
       "18. 'compactness_se'\n",
       "19. 'concavity_se'\n",
       "20. 'concave.points_se'\n",
       "21. 'symmetry_se'\n",
       "22. 'fractal_dimension_se'\n",
       "23. 'radius_worst'\n",
       "24. 'texture_worst'\n",
       "25. 'perimeter_worst'\n",
       "26. 'area_worst'\n",
       "27. 'smoothness_worst'\n",
       "28. 'compactness_worst'\n",
       "29. 'concavity_worst'\n",
       "30. 'concave.points_worst'\n",
       "31. 'symmetry_worst'\n",
       "32. 'fractal_dimension_worst'\n",
       "\n",
       "\n"
      ],
      "text/plain": [
       " [1] \"id\"                      \"diagnosis\"              \n",
       " [3] \"radius_mean\"             \"texture_mean\"           \n",
       " [5] \"perimeter_mean\"          \"area_mean\"              \n",
       " [7] \"smoothness_mean\"         \"compactness_mean\"       \n",
       " [9] \"concavity_mean\"          \"concave.points_mean\"    \n",
       "[11] \"symmetry_mean\"           \"fractal_dimension_mean\" \n",
       "[13] \"radius_se\"               \"texture_se\"             \n",
       "[15] \"perimeter_se\"            \"area_se\"                \n",
       "[17] \"smoothness_se\"           \"compactness_se\"         \n",
       "[19] \"concavity_se\"            \"concave.points_se\"      \n",
       "[21] \"symmetry_se\"             \"fractal_dimension_se\"   \n",
       "[23] \"radius_worst\"            \"texture_worst\"          \n",
       "[25] \"perimeter_worst\"         \"area_worst\"             \n",
       "[27] \"smoothness_worst\"        \"compactness_worst\"      \n",
       "[29] \"concavity_worst\"         \"concave.points_worst\"   \n",
       "[31] \"symmetry_worst\"          \"fractal_dimension_worst\""
      ]
     },
     "metadata": {},
     "output_type": "display_data"
    }
   ],
   "source": [
    "# list column names\n",
    "colnames(bc)"
   ]
  },
  {
   "cell_type": "code",
   "execution_count": 5,
   "id": "66d1c7bf-0168-446e-a89a-b4f69726144a",
   "metadata": {},
   "outputs": [
    {
     "data": {
      "text/html": [
       "0"
      ],
      "text/latex": [
       "0"
      ],
      "text/markdown": [
       "0"
      ],
      "text/plain": [
       "[1] 0"
      ]
     },
     "metadata": {},
     "output_type": "display_data"
    }
   ],
   "source": [
    "# count amount of null values in datafram\n",
    "sum(is.na(bc) == TRUE)"
   ]
  },
  {
   "cell_type": "code",
   "execution_count": 6,
   "id": "a270ac2c-dfc3-4a69-88e0-e639bde0f09f",
   "metadata": {},
   "outputs": [
    {
     "data": {
      "text/html": [
       "<style>\n",
       ".dl-inline {width: auto; margin:0; padding: 0}\n",
       ".dl-inline>dt, .dl-inline>dd {float: none; width: auto; display: inline-block}\n",
       ".dl-inline>dt::after {content: \":\\0020\"; padding-right: .5ex}\n",
       ".dl-inline>dt:not(:first-of-type) {padding-left: .5ex}\n",
       "</style><dl class=dl-inline><dt>id</dt><dd>0</dd><dt>diagnosis</dt><dd>0</dd><dt>radius_mean</dt><dd>0</dd><dt>texture_mean</dt><dd>0</dd><dt>perimeter_mean</dt><dd>0</dd><dt>area_mean</dt><dd>0</dd><dt>smoothness_mean</dt><dd>0</dd><dt>compactness_mean</dt><dd>0</dd><dt>concavity_mean</dt><dd>13</dd><dt>concave.points_mean</dt><dd>13</dd><dt>symmetry_mean</dt><dd>0</dd><dt>fractal_dimension_mean</dt><dd>0</dd><dt>radius_se</dt><dd>0</dd><dt>texture_se</dt><dd>0</dd><dt>perimeter_se</dt><dd>0</dd><dt>area_se</dt><dd>0</dd><dt>smoothness_se</dt><dd>0</dd><dt>compactness_se</dt><dd>0</dd><dt>concavity_se</dt><dd>13</dd><dt>concave.points_se</dt><dd>13</dd><dt>symmetry_se</dt><dd>0</dd><dt>fractal_dimension_se</dt><dd>0</dd><dt>radius_worst</dt><dd>0</dd><dt>texture_worst</dt><dd>0</dd><dt>perimeter_worst</dt><dd>0</dd><dt>area_worst</dt><dd>0</dd><dt>smoothness_worst</dt><dd>0</dd><dt>compactness_worst</dt><dd>0</dd><dt>concavity_worst</dt><dd>13</dd><dt>concave.points_worst</dt><dd>13</dd><dt>symmetry_worst</dt><dd>0</dd><dt>fractal_dimension_worst</dt><dd>0</dd></dl>\n"
      ],
      "text/latex": [
       "\\begin{description*}\n",
       "\\item[id] 0\n",
       "\\item[diagnosis] 0\n",
       "\\item[radius\\textbackslash{}\\_mean] 0\n",
       "\\item[texture\\textbackslash{}\\_mean] 0\n",
       "\\item[perimeter\\textbackslash{}\\_mean] 0\n",
       "\\item[area\\textbackslash{}\\_mean] 0\n",
       "\\item[smoothness\\textbackslash{}\\_mean] 0\n",
       "\\item[compactness\\textbackslash{}\\_mean] 0\n",
       "\\item[concavity\\textbackslash{}\\_mean] 13\n",
       "\\item[concave.points\\textbackslash{}\\_mean] 13\n",
       "\\item[symmetry\\textbackslash{}\\_mean] 0\n",
       "\\item[fractal\\textbackslash{}\\_dimension\\textbackslash{}\\_mean] 0\n",
       "\\item[radius\\textbackslash{}\\_se] 0\n",
       "\\item[texture\\textbackslash{}\\_se] 0\n",
       "\\item[perimeter\\textbackslash{}\\_se] 0\n",
       "\\item[area\\textbackslash{}\\_se] 0\n",
       "\\item[smoothness\\textbackslash{}\\_se] 0\n",
       "\\item[compactness\\textbackslash{}\\_se] 0\n",
       "\\item[concavity\\textbackslash{}\\_se] 13\n",
       "\\item[concave.points\\textbackslash{}\\_se] 13\n",
       "\\item[symmetry\\textbackslash{}\\_se] 0\n",
       "\\item[fractal\\textbackslash{}\\_dimension\\textbackslash{}\\_se] 0\n",
       "\\item[radius\\textbackslash{}\\_worst] 0\n",
       "\\item[texture\\textbackslash{}\\_worst] 0\n",
       "\\item[perimeter\\textbackslash{}\\_worst] 0\n",
       "\\item[area\\textbackslash{}\\_worst] 0\n",
       "\\item[smoothness\\textbackslash{}\\_worst] 0\n",
       "\\item[compactness\\textbackslash{}\\_worst] 0\n",
       "\\item[concavity\\textbackslash{}\\_worst] 13\n",
       "\\item[concave.points\\textbackslash{}\\_worst] 13\n",
       "\\item[symmetry\\textbackslash{}\\_worst] 0\n",
       "\\item[fractal\\textbackslash{}\\_dimension\\textbackslash{}\\_worst] 0\n",
       "\\end{description*}\n"
      ],
      "text/markdown": [
       "id\n",
       ":   0diagnosis\n",
       ":   0radius_mean\n",
       ":   0texture_mean\n",
       ":   0perimeter_mean\n",
       ":   0area_mean\n",
       ":   0smoothness_mean\n",
       ":   0compactness_mean\n",
       ":   0concavity_mean\n",
       ":   13concave.points_mean\n",
       ":   13symmetry_mean\n",
       ":   0fractal_dimension_mean\n",
       ":   0radius_se\n",
       ":   0texture_se\n",
       ":   0perimeter_se\n",
       ":   0area_se\n",
       ":   0smoothness_se\n",
       ":   0compactness_se\n",
       ":   0concavity_se\n",
       ":   13concave.points_se\n",
       ":   13symmetry_se\n",
       ":   0fractal_dimension_se\n",
       ":   0radius_worst\n",
       ":   0texture_worst\n",
       ":   0perimeter_worst\n",
       ":   0area_worst\n",
       ":   0smoothness_worst\n",
       ":   0compactness_worst\n",
       ":   0concavity_worst\n",
       ":   13concave.points_worst\n",
       ":   13symmetry_worst\n",
       ":   0fractal_dimension_worst\n",
       ":   0\n",
       "\n"
      ],
      "text/plain": [
       "                     id               diagnosis             radius_mean \n",
       "                      0                       0                       0 \n",
       "           texture_mean          perimeter_mean               area_mean \n",
       "                      0                       0                       0 \n",
       "        smoothness_mean        compactness_mean          concavity_mean \n",
       "                      0                       0                      13 \n",
       "    concave.points_mean           symmetry_mean  fractal_dimension_mean \n",
       "                     13                       0                       0 \n",
       "              radius_se              texture_se            perimeter_se \n",
       "                      0                       0                       0 \n",
       "                area_se           smoothness_se          compactness_se \n",
       "                      0                       0                       0 \n",
       "           concavity_se       concave.points_se             symmetry_se \n",
       "                     13                      13                       0 \n",
       "   fractal_dimension_se            radius_worst           texture_worst \n",
       "                      0                       0                       0 \n",
       "        perimeter_worst              area_worst        smoothness_worst \n",
       "                      0                       0                       0 \n",
       "      compactness_worst         concavity_worst    concave.points_worst \n",
       "                      0                      13                      13 \n",
       "         symmetry_worst fractal_dimension_worst \n",
       "                      0                       0 "
      ]
     },
     "metadata": {},
     "output_type": "display_data"
    }
   ],
   "source": [
    "# check columns with 0 values\n",
    "colSums(bc == 0)"
   ]
  },
  {
   "cell_type": "code",
   "execution_count": 7,
   "id": "c9fbadcb-b65f-43fe-b07a-ff342ef0d113",
   "metadata": {},
   "outputs": [],
   "source": [
    "# remove ID column\n",
    "bc <- bc[,-1]"
   ]
  },
  {
   "cell_type": "code",
   "execution_count": 8,
   "id": "a528f2b7-86d2-4fb1-9537-49454fb1cfc4",
   "metadata": {},
   "outputs": [
    {
     "data": {
      "text/html": [
       "<style>\n",
       ".list-inline {list-style: none; margin:0; padding: 0}\n",
       ".list-inline>li {display: inline-block}\n",
       ".list-inline>li:not(:last-child)::after {content: \"\\00b7\"; padding: 0 .5ex}\n",
       "</style>\n",
       "<ol class=list-inline><li>'M'</li><li>'B'</li></ol>\n"
      ],
      "text/latex": [
       "\\begin{enumerate*}\n",
       "\\item 'M'\n",
       "\\item 'B'\n",
       "\\end{enumerate*}\n"
      ],
      "text/markdown": [
       "1. 'M'\n",
       "2. 'B'\n",
       "\n",
       "\n"
      ],
      "text/plain": [
       "[1] \"M\" \"B\""
      ]
     },
     "metadata": {},
     "output_type": "display_data"
    }
   ],
   "source": [
    "# check values to predict\n",
    "unique(bc$diagnosis)"
   ]
  },
  {
   "cell_type": "code",
   "execution_count": 9,
   "id": "b3cbfc53-2632-4a50-b81a-cbad6f173157",
   "metadata": {},
   "outputs": [],
   "source": [
    "# convert predicted values to numeric (1 = M, 0 = B)\n",
    "# convert malignant and benign into 0s and 1s\n",
    "bc$diagnosis <-ifelse(bc$diagnosis==\"M\",1,0)"
   ]
  },
  {
   "cell_type": "code",
   "execution_count": 10,
   "id": "044ea088-ae7e-4285-a345-8591f1f0cb0a",
   "metadata": {},
   "outputs": [
    {
     "data": {
      "text/html": [
       "<table class=\"dataframe\">\n",
       "<caption>A data.frame: 6 × 31</caption>\n",
       "<thead>\n",
       "\t<tr><th></th><th scope=col>diagnosis</th><th scope=col>radius_mean</th><th scope=col>texture_mean</th><th scope=col>perimeter_mean</th><th scope=col>area_mean</th><th scope=col>smoothness_mean</th><th scope=col>compactness_mean</th><th scope=col>concavity_mean</th><th scope=col>concave.points_mean</th><th scope=col>symmetry_mean</th><th scope=col>...</th><th scope=col>radius_worst</th><th scope=col>texture_worst</th><th scope=col>perimeter_worst</th><th scope=col>area_worst</th><th scope=col>smoothness_worst</th><th scope=col>compactness_worst</th><th scope=col>concavity_worst</th><th scope=col>concave.points_worst</th><th scope=col>symmetry_worst</th><th scope=col>fractal_dimension_worst</th></tr>\n",
       "\t<tr><th></th><th scope=col>&lt;dbl&gt;</th><th scope=col>&lt;dbl&gt;</th><th scope=col>&lt;dbl&gt;</th><th scope=col>&lt;dbl&gt;</th><th scope=col>&lt;dbl&gt;</th><th scope=col>&lt;dbl&gt;</th><th scope=col>&lt;dbl&gt;</th><th scope=col>&lt;dbl&gt;</th><th scope=col>&lt;dbl&gt;</th><th scope=col>&lt;dbl&gt;</th><th scope=col>...</th><th scope=col>&lt;dbl&gt;</th><th scope=col>&lt;dbl&gt;</th><th scope=col>&lt;dbl&gt;</th><th scope=col>&lt;dbl&gt;</th><th scope=col>&lt;dbl&gt;</th><th scope=col>&lt;dbl&gt;</th><th scope=col>&lt;dbl&gt;</th><th scope=col>&lt;dbl&gt;</th><th scope=col>&lt;dbl&gt;</th><th scope=col>&lt;dbl&gt;</th></tr>\n",
       "</thead>\n",
       "<tbody>\n",
       "\t<tr><th scope=row>1</th><td>1</td><td>17.99</td><td>10.38</td><td>122.80</td><td>1001.0</td><td>0.11840</td><td>0.27760</td><td>0.3001</td><td>0.14710</td><td>0.2419</td><td>...</td><td>25.38</td><td>17.33</td><td>184.60</td><td>2019.0</td><td>0.1622</td><td>0.6656</td><td>0.7119</td><td>0.2654</td><td>0.4601</td><td>0.11890</td></tr>\n",
       "\t<tr><th scope=row>2</th><td>1</td><td>20.57</td><td>17.77</td><td>132.90</td><td>1326.0</td><td>0.08474</td><td>0.07864</td><td>0.0869</td><td>0.07017</td><td>0.1812</td><td>...</td><td>24.99</td><td>23.41</td><td>158.80</td><td>1956.0</td><td>0.1238</td><td>0.1866</td><td>0.2416</td><td>0.1860</td><td>0.2750</td><td>0.08902</td></tr>\n",
       "\t<tr><th scope=row>3</th><td>1</td><td>19.69</td><td>21.25</td><td>130.00</td><td>1203.0</td><td>0.10960</td><td>0.15990</td><td>0.1974</td><td>0.12790</td><td>0.2069</td><td>...</td><td>23.57</td><td>25.53</td><td>152.50</td><td>1709.0</td><td>0.1444</td><td>0.4245</td><td>0.4504</td><td>0.2430</td><td>0.3613</td><td>0.08758</td></tr>\n",
       "\t<tr><th scope=row>4</th><td>1</td><td>11.42</td><td>20.38</td><td> 77.58</td><td> 386.1</td><td>0.14250</td><td>0.28390</td><td>0.2414</td><td>0.10520</td><td>0.2597</td><td>...</td><td>14.91</td><td>26.50</td><td> 98.87</td><td> 567.7</td><td>0.2098</td><td>0.8663</td><td>0.6869</td><td>0.2575</td><td>0.6638</td><td>0.17300</td></tr>\n",
       "\t<tr><th scope=row>5</th><td>1</td><td>20.29</td><td>14.34</td><td>135.10</td><td>1297.0</td><td>0.10030</td><td>0.13280</td><td>0.1980</td><td>0.10430</td><td>0.1809</td><td>...</td><td>22.54</td><td>16.67</td><td>152.20</td><td>1575.0</td><td>0.1374</td><td>0.2050</td><td>0.4000</td><td>0.1625</td><td>0.2364</td><td>0.07678</td></tr>\n",
       "\t<tr><th scope=row>6</th><td>1</td><td>12.45</td><td>15.70</td><td> 82.57</td><td> 477.1</td><td>0.12780</td><td>0.17000</td><td>0.1578</td><td>0.08089</td><td>0.2087</td><td>...</td><td>15.47</td><td>23.75</td><td>103.40</td><td> 741.6</td><td>0.1791</td><td>0.5249</td><td>0.5355</td><td>0.1741</td><td>0.3985</td><td>0.12440</td></tr>\n",
       "</tbody>\n",
       "</table>\n"
      ],
      "text/latex": [
       "A data.frame: 6 × 31\n",
       "\\begin{tabular}{r|lllllllllllllllllllll}\n",
       "  & diagnosis & radius\\_mean & texture\\_mean & perimeter\\_mean & area\\_mean & smoothness\\_mean & compactness\\_mean & concavity\\_mean & concave.points\\_mean & symmetry\\_mean & ... & radius\\_worst & texture\\_worst & perimeter\\_worst & area\\_worst & smoothness\\_worst & compactness\\_worst & concavity\\_worst & concave.points\\_worst & symmetry\\_worst & fractal\\_dimension\\_worst\\\\\n",
       "  & <dbl> & <dbl> & <dbl> & <dbl> & <dbl> & <dbl> & <dbl> & <dbl> & <dbl> & <dbl> & ... & <dbl> & <dbl> & <dbl> & <dbl> & <dbl> & <dbl> & <dbl> & <dbl> & <dbl> & <dbl>\\\\\n",
       "\\hline\n",
       "\t1 & 1 & 17.99 & 10.38 & 122.80 & 1001.0 & 0.11840 & 0.27760 & 0.3001 & 0.14710 & 0.2419 & ... & 25.38 & 17.33 & 184.60 & 2019.0 & 0.1622 & 0.6656 & 0.7119 & 0.2654 & 0.4601 & 0.11890\\\\\n",
       "\t2 & 1 & 20.57 & 17.77 & 132.90 & 1326.0 & 0.08474 & 0.07864 & 0.0869 & 0.07017 & 0.1812 & ... & 24.99 & 23.41 & 158.80 & 1956.0 & 0.1238 & 0.1866 & 0.2416 & 0.1860 & 0.2750 & 0.08902\\\\\n",
       "\t3 & 1 & 19.69 & 21.25 & 130.00 & 1203.0 & 0.10960 & 0.15990 & 0.1974 & 0.12790 & 0.2069 & ... & 23.57 & 25.53 & 152.50 & 1709.0 & 0.1444 & 0.4245 & 0.4504 & 0.2430 & 0.3613 & 0.08758\\\\\n",
       "\t4 & 1 & 11.42 & 20.38 &  77.58 &  386.1 & 0.14250 & 0.28390 & 0.2414 & 0.10520 & 0.2597 & ... & 14.91 & 26.50 &  98.87 &  567.7 & 0.2098 & 0.8663 & 0.6869 & 0.2575 & 0.6638 & 0.17300\\\\\n",
       "\t5 & 1 & 20.29 & 14.34 & 135.10 & 1297.0 & 0.10030 & 0.13280 & 0.1980 & 0.10430 & 0.1809 & ... & 22.54 & 16.67 & 152.20 & 1575.0 & 0.1374 & 0.2050 & 0.4000 & 0.1625 & 0.2364 & 0.07678\\\\\n",
       "\t6 & 1 & 12.45 & 15.70 &  82.57 &  477.1 & 0.12780 & 0.17000 & 0.1578 & 0.08089 & 0.2087 & ... & 15.47 & 23.75 & 103.40 &  741.6 & 0.1791 & 0.5249 & 0.5355 & 0.1741 & 0.3985 & 0.12440\\\\\n",
       "\\end{tabular}\n"
      ],
      "text/markdown": [
       "\n",
       "A data.frame: 6 × 31\n",
       "\n",
       "| <!--/--> | diagnosis &lt;dbl&gt; | radius_mean &lt;dbl&gt; | texture_mean &lt;dbl&gt; | perimeter_mean &lt;dbl&gt; | area_mean &lt;dbl&gt; | smoothness_mean &lt;dbl&gt; | compactness_mean &lt;dbl&gt; | concavity_mean &lt;dbl&gt; | concave.points_mean &lt;dbl&gt; | symmetry_mean &lt;dbl&gt; | ... ... | radius_worst &lt;dbl&gt; | texture_worst &lt;dbl&gt; | perimeter_worst &lt;dbl&gt; | area_worst &lt;dbl&gt; | smoothness_worst &lt;dbl&gt; | compactness_worst &lt;dbl&gt; | concavity_worst &lt;dbl&gt; | concave.points_worst &lt;dbl&gt; | symmetry_worst &lt;dbl&gt; | fractal_dimension_worst &lt;dbl&gt; |\n",
       "|---|---|---|---|---|---|---|---|---|---|---|---|---|---|---|---|---|---|---|---|---|---|\n",
       "| 1 | 1 | 17.99 | 10.38 | 122.80 | 1001.0 | 0.11840 | 0.27760 | 0.3001 | 0.14710 | 0.2419 | ... | 25.38 | 17.33 | 184.60 | 2019.0 | 0.1622 | 0.6656 | 0.7119 | 0.2654 | 0.4601 | 0.11890 |\n",
       "| 2 | 1 | 20.57 | 17.77 | 132.90 | 1326.0 | 0.08474 | 0.07864 | 0.0869 | 0.07017 | 0.1812 | ... | 24.99 | 23.41 | 158.80 | 1956.0 | 0.1238 | 0.1866 | 0.2416 | 0.1860 | 0.2750 | 0.08902 |\n",
       "| 3 | 1 | 19.69 | 21.25 | 130.00 | 1203.0 | 0.10960 | 0.15990 | 0.1974 | 0.12790 | 0.2069 | ... | 23.57 | 25.53 | 152.50 | 1709.0 | 0.1444 | 0.4245 | 0.4504 | 0.2430 | 0.3613 | 0.08758 |\n",
       "| 4 | 1 | 11.42 | 20.38 |  77.58 |  386.1 | 0.14250 | 0.28390 | 0.2414 | 0.10520 | 0.2597 | ... | 14.91 | 26.50 |  98.87 |  567.7 | 0.2098 | 0.8663 | 0.6869 | 0.2575 | 0.6638 | 0.17300 |\n",
       "| 5 | 1 | 20.29 | 14.34 | 135.10 | 1297.0 | 0.10030 | 0.13280 | 0.1980 | 0.10430 | 0.1809 | ... | 22.54 | 16.67 | 152.20 | 1575.0 | 0.1374 | 0.2050 | 0.4000 | 0.1625 | 0.2364 | 0.07678 |\n",
       "| 6 | 1 | 12.45 | 15.70 |  82.57 |  477.1 | 0.12780 | 0.17000 | 0.1578 | 0.08089 | 0.2087 | ... | 15.47 | 23.75 | 103.40 |  741.6 | 0.1791 | 0.5249 | 0.5355 | 0.1741 | 0.3985 | 0.12440 |\n",
       "\n"
      ],
      "text/plain": [
       "  diagnosis radius_mean texture_mean perimeter_mean area_mean smoothness_mean\n",
       "1 1         17.99       10.38        122.80         1001.0    0.11840        \n",
       "2 1         20.57       17.77        132.90         1326.0    0.08474        \n",
       "3 1         19.69       21.25        130.00         1203.0    0.10960        \n",
       "4 1         11.42       20.38         77.58          386.1    0.14250        \n",
       "5 1         20.29       14.34        135.10         1297.0    0.10030        \n",
       "6 1         12.45       15.70         82.57          477.1    0.12780        \n",
       "  compactness_mean concavity_mean concave.points_mean symmetry_mean ...\n",
       "1 0.27760          0.3001         0.14710             0.2419        ...\n",
       "2 0.07864          0.0869         0.07017             0.1812        ...\n",
       "3 0.15990          0.1974         0.12790             0.2069        ...\n",
       "4 0.28390          0.2414         0.10520             0.2597        ...\n",
       "5 0.13280          0.1980         0.10430             0.1809        ...\n",
       "6 0.17000          0.1578         0.08089             0.2087        ...\n",
       "  radius_worst texture_worst perimeter_worst area_worst smoothness_worst\n",
       "1 25.38        17.33         184.60          2019.0     0.1622          \n",
       "2 24.99        23.41         158.80          1956.0     0.1238          \n",
       "3 23.57        25.53         152.50          1709.0     0.1444          \n",
       "4 14.91        26.50          98.87           567.7     0.2098          \n",
       "5 22.54        16.67         152.20          1575.0     0.1374          \n",
       "6 15.47        23.75         103.40           741.6     0.1791          \n",
       "  compactness_worst concavity_worst concave.points_worst symmetry_worst\n",
       "1 0.6656            0.7119          0.2654               0.4601        \n",
       "2 0.1866            0.2416          0.1860               0.2750        \n",
       "3 0.4245            0.4504          0.2430               0.3613        \n",
       "4 0.8663            0.6869          0.2575               0.6638        \n",
       "5 0.2050            0.4000          0.1625               0.2364        \n",
       "6 0.5249            0.5355          0.1741               0.3985        \n",
       "  fractal_dimension_worst\n",
       "1 0.11890                \n",
       "2 0.08902                \n",
       "3 0.08758                \n",
       "4 0.17300                \n",
       "5 0.07678                \n",
       "6 0.12440                "
      ]
     },
     "metadata": {},
     "output_type": "display_data"
    }
   ],
   "source": [
    "# view new updated data\n",
    "head(bc)"
   ]
  },
  {
   "cell_type": "code",
   "execution_count": 11,
   "id": "bee37985-9ea2-4e59-9f94-25f2f06f057c",
   "metadata": {},
   "outputs": [
    {
     "data": {
      "text/html": [
       "<style>\n",
       ".list-inline {list-style: none; margin:0; padding: 0}\n",
       ".list-inline>li {display: inline-block}\n",
       ".list-inline>li:not(:last-child)::after {content: \"\\00b7\"; padding: 0 .5ex}\n",
       "</style>\n",
       "<ol class=list-inline><li>1</li><li>0</li></ol>\n"
      ],
      "text/latex": [
       "\\begin{enumerate*}\n",
       "\\item 1\n",
       "\\item 0\n",
       "\\end{enumerate*}\n"
      ],
      "text/markdown": [
       "1. 1\n",
       "2. 0\n",
       "\n",
       "\n"
      ],
      "text/plain": [
       "[1] 1 0"
      ]
     },
     "metadata": {},
     "output_type": "display_data"
    }
   ],
   "source": [
    "# check values to predict\n",
    "unique(bc$diagnosis)"
   ]
  },
  {
   "cell_type": "code",
   "execution_count": 12,
   "id": "ff3439cf-56fd-4eae-9adb-d05134aba4af",
   "metadata": {},
   "outputs": [],
   "source": [
    "# turn diagnosis column into a factor\n",
    "bc$diagnosis = factor(bc$diagnosis, levels = c(0, 1))"
   ]
  },
  {
   "cell_type": "code",
   "execution_count": 13,
   "id": "e389e91e-43d0-4922-84b9-c579564bbd0a",
   "metadata": {},
   "outputs": [
    {
     "data": {
      "text/html": [
       "<style>\n",
       ".list-inline {list-style: none; margin:0; padding: 0}\n",
       ".list-inline>li {display: inline-block}\n",
       ".list-inline>li:not(:last-child)::after {content: \"\\00b7\"; padding: 0 .5ex}\n",
       "</style>\n",
       "<ol class=list-inline><li>456</li><li>31</li></ol>\n"
      ],
      "text/latex": [
       "\\begin{enumerate*}\n",
       "\\item 456\n",
       "\\item 31\n",
       "\\end{enumerate*}\n"
      ],
      "text/markdown": [
       "1. 456\n",
       "2. 31\n",
       "\n",
       "\n"
      ],
      "text/plain": [
       "[1] 456  31"
      ]
     },
     "metadata": {},
     "output_type": "display_data"
    },
    {
     "data": {
      "text/html": [
       "<style>\n",
       ".list-inline {list-style: none; margin:0; padding: 0}\n",
       ".list-inline>li {display: inline-block}\n",
       ".list-inline>li:not(:last-child)::after {content: \"\\00b7\"; padding: 0 .5ex}\n",
       "</style>\n",
       "<ol class=list-inline><li>113</li><li>31</li></ol>\n"
      ],
      "text/latex": [
       "\\begin{enumerate*}\n",
       "\\item 113\n",
       "\\item 31\n",
       "\\end{enumerate*}\n"
      ],
      "text/markdown": [
       "1. 113\n",
       "2. 31\n",
       "\n",
       "\n"
      ],
      "text/plain": [
       "[1] 113  31"
      ]
     },
     "metadata": {},
     "output_type": "display_data"
    }
   ],
   "source": [
    "# split to train and test\n",
    "split1 <- sample(c(rep(0, 0.8 * nrow(bc)), rep(1, 0.2 * nrow(bc)))) #80% train, 20% test\n",
    "# create training and test sets\n",
    "train <- bc[split1 == 0,]\n",
    "test <- bc[split1 == 1,]\n",
    "# check dimensions for both\n",
    "dim(train)\n",
    "dim(test)"
   ]
  },
  {
   "cell_type": "code",
   "execution_count": 14,
   "id": "2cf982e7-cf89-4de5-8ac7-08e99bed1a7b",
   "metadata": {},
   "outputs": [
    {
     "data": {
      "text/html": [
       "<table class=\"dataframe\">\n",
       "<caption>A data.frame: 6 × 31</caption>\n",
       "<thead>\n",
       "\t<tr><th></th><th scope=col>diagnosis</th><th scope=col>radius_mean</th><th scope=col>texture_mean</th><th scope=col>perimeter_mean</th><th scope=col>area_mean</th><th scope=col>smoothness_mean</th><th scope=col>compactness_mean</th><th scope=col>concavity_mean</th><th scope=col>concave.points_mean</th><th scope=col>symmetry_mean</th><th scope=col>...</th><th scope=col>radius_worst</th><th scope=col>texture_worst</th><th scope=col>perimeter_worst</th><th scope=col>area_worst</th><th scope=col>smoothness_worst</th><th scope=col>compactness_worst</th><th scope=col>concavity_worst</th><th scope=col>concave.points_worst</th><th scope=col>symmetry_worst</th><th scope=col>fractal_dimension_worst</th></tr>\n",
       "\t<tr><th></th><th scope=col>&lt;fct&gt;</th><th scope=col>&lt;dbl&gt;</th><th scope=col>&lt;dbl&gt;</th><th scope=col>&lt;dbl&gt;</th><th scope=col>&lt;dbl&gt;</th><th scope=col>&lt;dbl&gt;</th><th scope=col>&lt;dbl&gt;</th><th scope=col>&lt;dbl&gt;</th><th scope=col>&lt;dbl&gt;</th><th scope=col>&lt;dbl&gt;</th><th scope=col>...</th><th scope=col>&lt;dbl&gt;</th><th scope=col>&lt;dbl&gt;</th><th scope=col>&lt;dbl&gt;</th><th scope=col>&lt;dbl&gt;</th><th scope=col>&lt;dbl&gt;</th><th scope=col>&lt;dbl&gt;</th><th scope=col>&lt;dbl&gt;</th><th scope=col>&lt;dbl&gt;</th><th scope=col>&lt;dbl&gt;</th><th scope=col>&lt;dbl&gt;</th></tr>\n",
       "</thead>\n",
       "<tbody>\n",
       "\t<tr><th scope=row>1</th><td>1</td><td>17.99</td><td>10.38</td><td>122.80</td><td>1001.0</td><td>0.11840</td><td>0.2776</td><td>0.30010</td><td>0.14710</td><td>0.2419</td><td>...</td><td>25.38</td><td>17.33</td><td>184.60</td><td>2019.0</td><td>0.1622</td><td>0.6656</td><td>0.7119</td><td>0.2654</td><td>0.4601</td><td>0.11890</td></tr>\n",
       "\t<tr><th scope=row>4</th><td>1</td><td>11.42</td><td>20.38</td><td> 77.58</td><td> 386.1</td><td>0.14250</td><td>0.2839</td><td>0.24140</td><td>0.10520</td><td>0.2597</td><td>...</td><td>14.91</td><td>26.50</td><td> 98.87</td><td> 567.7</td><td>0.2098</td><td>0.8663</td><td>0.6869</td><td>0.2575</td><td>0.6638</td><td>0.17300</td></tr>\n",
       "\t<tr><th scope=row>5</th><td>1</td><td>20.29</td><td>14.34</td><td>135.10</td><td>1297.0</td><td>0.10030</td><td>0.1328</td><td>0.19800</td><td>0.10430</td><td>0.1809</td><td>...</td><td>22.54</td><td>16.67</td><td>152.20</td><td>1575.0</td><td>0.1374</td><td>0.2050</td><td>0.4000</td><td>0.1625</td><td>0.2364</td><td>0.07678</td></tr>\n",
       "\t<tr><th scope=row>6</th><td>1</td><td>12.45</td><td>15.70</td><td> 82.57</td><td> 477.1</td><td>0.12780</td><td>0.1700</td><td>0.15780</td><td>0.08089</td><td>0.2087</td><td>...</td><td>15.47</td><td>23.75</td><td>103.40</td><td> 741.6</td><td>0.1791</td><td>0.5249</td><td>0.5355</td><td>0.1741</td><td>0.3985</td><td>0.12440</td></tr>\n",
       "\t<tr><th scope=row>7</th><td>1</td><td>18.25</td><td>19.98</td><td>119.60</td><td>1040.0</td><td>0.09463</td><td>0.1090</td><td>0.11270</td><td>0.07400</td><td>0.1794</td><td>...</td><td>22.88</td><td>27.66</td><td>153.20</td><td>1606.0</td><td>0.1442</td><td>0.2576</td><td>0.3784</td><td>0.1932</td><td>0.3063</td><td>0.08368</td></tr>\n",
       "\t<tr><th scope=row>8</th><td>1</td><td>13.71</td><td>20.83</td><td> 90.20</td><td> 577.9</td><td>0.11890</td><td>0.1645</td><td>0.09366</td><td>0.05985</td><td>0.2196</td><td>...</td><td>17.06</td><td>28.14</td><td>110.60</td><td> 897.0</td><td>0.1654</td><td>0.3682</td><td>0.2678</td><td>0.1556</td><td>0.3196</td><td>0.11510</td></tr>\n",
       "</tbody>\n",
       "</table>\n"
      ],
      "text/latex": [
       "A data.frame: 6 × 31\n",
       "\\begin{tabular}{r|lllllllllllllllllllll}\n",
       "  & diagnosis & radius\\_mean & texture\\_mean & perimeter\\_mean & area\\_mean & smoothness\\_mean & compactness\\_mean & concavity\\_mean & concave.points\\_mean & symmetry\\_mean & ... & radius\\_worst & texture\\_worst & perimeter\\_worst & area\\_worst & smoothness\\_worst & compactness\\_worst & concavity\\_worst & concave.points\\_worst & symmetry\\_worst & fractal\\_dimension\\_worst\\\\\n",
       "  & <fct> & <dbl> & <dbl> & <dbl> & <dbl> & <dbl> & <dbl> & <dbl> & <dbl> & <dbl> & ... & <dbl> & <dbl> & <dbl> & <dbl> & <dbl> & <dbl> & <dbl> & <dbl> & <dbl> & <dbl>\\\\\n",
       "\\hline\n",
       "\t1 & 1 & 17.99 & 10.38 & 122.80 & 1001.0 & 0.11840 & 0.2776 & 0.30010 & 0.14710 & 0.2419 & ... & 25.38 & 17.33 & 184.60 & 2019.0 & 0.1622 & 0.6656 & 0.7119 & 0.2654 & 0.4601 & 0.11890\\\\\n",
       "\t4 & 1 & 11.42 & 20.38 &  77.58 &  386.1 & 0.14250 & 0.2839 & 0.24140 & 0.10520 & 0.2597 & ... & 14.91 & 26.50 &  98.87 &  567.7 & 0.2098 & 0.8663 & 0.6869 & 0.2575 & 0.6638 & 0.17300\\\\\n",
       "\t5 & 1 & 20.29 & 14.34 & 135.10 & 1297.0 & 0.10030 & 0.1328 & 0.19800 & 0.10430 & 0.1809 & ... & 22.54 & 16.67 & 152.20 & 1575.0 & 0.1374 & 0.2050 & 0.4000 & 0.1625 & 0.2364 & 0.07678\\\\\n",
       "\t6 & 1 & 12.45 & 15.70 &  82.57 &  477.1 & 0.12780 & 0.1700 & 0.15780 & 0.08089 & 0.2087 & ... & 15.47 & 23.75 & 103.40 &  741.6 & 0.1791 & 0.5249 & 0.5355 & 0.1741 & 0.3985 & 0.12440\\\\\n",
       "\t7 & 1 & 18.25 & 19.98 & 119.60 & 1040.0 & 0.09463 & 0.1090 & 0.11270 & 0.07400 & 0.1794 & ... & 22.88 & 27.66 & 153.20 & 1606.0 & 0.1442 & 0.2576 & 0.3784 & 0.1932 & 0.3063 & 0.08368\\\\\n",
       "\t8 & 1 & 13.71 & 20.83 &  90.20 &  577.9 & 0.11890 & 0.1645 & 0.09366 & 0.05985 & 0.2196 & ... & 17.06 & 28.14 & 110.60 &  897.0 & 0.1654 & 0.3682 & 0.2678 & 0.1556 & 0.3196 & 0.11510\\\\\n",
       "\\end{tabular}\n"
      ],
      "text/markdown": [
       "\n",
       "A data.frame: 6 × 31\n",
       "\n",
       "| <!--/--> | diagnosis &lt;fct&gt; | radius_mean &lt;dbl&gt; | texture_mean &lt;dbl&gt; | perimeter_mean &lt;dbl&gt; | area_mean &lt;dbl&gt; | smoothness_mean &lt;dbl&gt; | compactness_mean &lt;dbl&gt; | concavity_mean &lt;dbl&gt; | concave.points_mean &lt;dbl&gt; | symmetry_mean &lt;dbl&gt; | ... ... | radius_worst &lt;dbl&gt; | texture_worst &lt;dbl&gt; | perimeter_worst &lt;dbl&gt; | area_worst &lt;dbl&gt; | smoothness_worst &lt;dbl&gt; | compactness_worst &lt;dbl&gt; | concavity_worst &lt;dbl&gt; | concave.points_worst &lt;dbl&gt; | symmetry_worst &lt;dbl&gt; | fractal_dimension_worst &lt;dbl&gt; |\n",
       "|---|---|---|---|---|---|---|---|---|---|---|---|---|---|---|---|---|---|---|---|---|---|\n",
       "| 1 | 1 | 17.99 | 10.38 | 122.80 | 1001.0 | 0.11840 | 0.2776 | 0.30010 | 0.14710 | 0.2419 | ... | 25.38 | 17.33 | 184.60 | 2019.0 | 0.1622 | 0.6656 | 0.7119 | 0.2654 | 0.4601 | 0.11890 |\n",
       "| 4 | 1 | 11.42 | 20.38 |  77.58 |  386.1 | 0.14250 | 0.2839 | 0.24140 | 0.10520 | 0.2597 | ... | 14.91 | 26.50 |  98.87 |  567.7 | 0.2098 | 0.8663 | 0.6869 | 0.2575 | 0.6638 | 0.17300 |\n",
       "| 5 | 1 | 20.29 | 14.34 | 135.10 | 1297.0 | 0.10030 | 0.1328 | 0.19800 | 0.10430 | 0.1809 | ... | 22.54 | 16.67 | 152.20 | 1575.0 | 0.1374 | 0.2050 | 0.4000 | 0.1625 | 0.2364 | 0.07678 |\n",
       "| 6 | 1 | 12.45 | 15.70 |  82.57 |  477.1 | 0.12780 | 0.1700 | 0.15780 | 0.08089 | 0.2087 | ... | 15.47 | 23.75 | 103.40 |  741.6 | 0.1791 | 0.5249 | 0.5355 | 0.1741 | 0.3985 | 0.12440 |\n",
       "| 7 | 1 | 18.25 | 19.98 | 119.60 | 1040.0 | 0.09463 | 0.1090 | 0.11270 | 0.07400 | 0.1794 | ... | 22.88 | 27.66 | 153.20 | 1606.0 | 0.1442 | 0.2576 | 0.3784 | 0.1932 | 0.3063 | 0.08368 |\n",
       "| 8 | 1 | 13.71 | 20.83 |  90.20 |  577.9 | 0.11890 | 0.1645 | 0.09366 | 0.05985 | 0.2196 | ... | 17.06 | 28.14 | 110.60 |  897.0 | 0.1654 | 0.3682 | 0.2678 | 0.1556 | 0.3196 | 0.11510 |\n",
       "\n"
      ],
      "text/plain": [
       "  diagnosis radius_mean texture_mean perimeter_mean area_mean smoothness_mean\n",
       "1 1         17.99       10.38        122.80         1001.0    0.11840        \n",
       "4 1         11.42       20.38         77.58          386.1    0.14250        \n",
       "5 1         20.29       14.34        135.10         1297.0    0.10030        \n",
       "6 1         12.45       15.70         82.57          477.1    0.12780        \n",
       "7 1         18.25       19.98        119.60         1040.0    0.09463        \n",
       "8 1         13.71       20.83         90.20          577.9    0.11890        \n",
       "  compactness_mean concavity_mean concave.points_mean symmetry_mean ...\n",
       "1 0.2776           0.30010        0.14710             0.2419        ...\n",
       "4 0.2839           0.24140        0.10520             0.2597        ...\n",
       "5 0.1328           0.19800        0.10430             0.1809        ...\n",
       "6 0.1700           0.15780        0.08089             0.2087        ...\n",
       "7 0.1090           0.11270        0.07400             0.1794        ...\n",
       "8 0.1645           0.09366        0.05985             0.2196        ...\n",
       "  radius_worst texture_worst perimeter_worst area_worst smoothness_worst\n",
       "1 25.38        17.33         184.60          2019.0     0.1622          \n",
       "4 14.91        26.50          98.87           567.7     0.2098          \n",
       "5 22.54        16.67         152.20          1575.0     0.1374          \n",
       "6 15.47        23.75         103.40           741.6     0.1791          \n",
       "7 22.88        27.66         153.20          1606.0     0.1442          \n",
       "8 17.06        28.14         110.60           897.0     0.1654          \n",
       "  compactness_worst concavity_worst concave.points_worst symmetry_worst\n",
       "1 0.6656            0.7119          0.2654               0.4601        \n",
       "4 0.8663            0.6869          0.2575               0.6638        \n",
       "5 0.2050            0.4000          0.1625               0.2364        \n",
       "6 0.5249            0.5355          0.1741               0.3985        \n",
       "7 0.2576            0.3784          0.1932               0.3063        \n",
       "8 0.3682            0.2678          0.1556               0.3196        \n",
       "  fractal_dimension_worst\n",
       "1 0.11890                \n",
       "4 0.17300                \n",
       "5 0.07678                \n",
       "6 0.12440                \n",
       "7 0.08368                \n",
       "8 0.11510                "
      ]
     },
     "metadata": {},
     "output_type": "display_data"
    },
    {
     "data": {
      "text/html": [
       "<table class=\"dataframe\">\n",
       "<caption>A data.frame: 6 × 31</caption>\n",
       "<thead>\n",
       "\t<tr><th></th><th scope=col>diagnosis</th><th scope=col>radius_mean</th><th scope=col>texture_mean</th><th scope=col>perimeter_mean</th><th scope=col>area_mean</th><th scope=col>smoothness_mean</th><th scope=col>compactness_mean</th><th scope=col>concavity_mean</th><th scope=col>concave.points_mean</th><th scope=col>symmetry_mean</th><th scope=col>...</th><th scope=col>radius_worst</th><th scope=col>texture_worst</th><th scope=col>perimeter_worst</th><th scope=col>area_worst</th><th scope=col>smoothness_worst</th><th scope=col>compactness_worst</th><th scope=col>concavity_worst</th><th scope=col>concave.points_worst</th><th scope=col>symmetry_worst</th><th scope=col>fractal_dimension_worst</th></tr>\n",
       "\t<tr><th></th><th scope=col>&lt;fct&gt;</th><th scope=col>&lt;dbl&gt;</th><th scope=col>&lt;dbl&gt;</th><th scope=col>&lt;dbl&gt;</th><th scope=col>&lt;dbl&gt;</th><th scope=col>&lt;dbl&gt;</th><th scope=col>&lt;dbl&gt;</th><th scope=col>&lt;dbl&gt;</th><th scope=col>&lt;dbl&gt;</th><th scope=col>&lt;dbl&gt;</th><th scope=col>...</th><th scope=col>&lt;dbl&gt;</th><th scope=col>&lt;dbl&gt;</th><th scope=col>&lt;dbl&gt;</th><th scope=col>&lt;dbl&gt;</th><th scope=col>&lt;dbl&gt;</th><th scope=col>&lt;dbl&gt;</th><th scope=col>&lt;dbl&gt;</th><th scope=col>&lt;dbl&gt;</th><th scope=col>&lt;dbl&gt;</th><th scope=col>&lt;dbl&gt;</th></tr>\n",
       "</thead>\n",
       "<tbody>\n",
       "\t<tr><th scope=row>2</th><td>1</td><td>20.57</td><td>17.77</td><td>132.90</td><td>1326.0</td><td>0.08474</td><td>0.07864</td><td>0.08690</td><td>0.07017</td><td>0.1812</td><td>...</td><td>24.99</td><td>23.41</td><td>158.8</td><td>1956.0</td><td>0.1238</td><td>0.1866</td><td>0.2416</td><td>0.1860</td><td>0.2750</td><td>0.08902</td></tr>\n",
       "\t<tr><th scope=row>3</th><td>1</td><td>19.69</td><td>21.25</td><td>130.00</td><td>1203.0</td><td>0.10960</td><td>0.15990</td><td>0.19740</td><td>0.12790</td><td>0.2069</td><td>...</td><td>23.57</td><td>25.53</td><td>152.5</td><td>1709.0</td><td>0.1444</td><td>0.4245</td><td>0.4504</td><td>0.2430</td><td>0.3613</td><td>0.08758</td></tr>\n",
       "\t<tr><th scope=row>9</th><td>1</td><td>13.00</td><td>21.82</td><td> 87.50</td><td> 519.8</td><td>0.12730</td><td>0.19320</td><td>0.18590</td><td>0.09353</td><td>0.2350</td><td>...</td><td>15.49</td><td>30.73</td><td>106.2</td><td> 739.3</td><td>0.1703</td><td>0.5401</td><td>0.5390</td><td>0.2060</td><td>0.4378</td><td>0.10720</td></tr>\n",
       "\t<tr><th scope=row>13</th><td>1</td><td>19.17</td><td>24.80</td><td>132.40</td><td>1123.0</td><td>0.09740</td><td>0.24580</td><td>0.20650</td><td>0.11180</td><td>0.2397</td><td>...</td><td>20.96</td><td>29.94</td><td>151.7</td><td>1332.0</td><td>0.1037</td><td>0.3903</td><td>0.3639</td><td>0.1767</td><td>0.3176</td><td>0.10230</td></tr>\n",
       "\t<tr><th scope=row>16</th><td>1</td><td>14.54</td><td>27.54</td><td> 96.73</td><td> 658.8</td><td>0.11390</td><td>0.15950</td><td>0.16390</td><td>0.07364</td><td>0.2303</td><td>...</td><td>17.46</td><td>37.13</td><td>124.1</td><td> 943.2</td><td>0.1678</td><td>0.6577</td><td>0.7026</td><td>0.1712</td><td>0.4218</td><td>0.13410</td></tr>\n",
       "\t<tr><th scope=row>20</th><td>0</td><td>13.54</td><td>14.36</td><td> 87.46</td><td> 566.3</td><td>0.09779</td><td>0.08129</td><td>0.06664</td><td>0.04781</td><td>0.1885</td><td>...</td><td>15.11</td><td>19.26</td><td> 99.7</td><td> 711.2</td><td>0.1440</td><td>0.1773</td><td>0.2390</td><td>0.1288</td><td>0.2977</td><td>0.07259</td></tr>\n",
       "</tbody>\n",
       "</table>\n"
      ],
      "text/latex": [
       "A data.frame: 6 × 31\n",
       "\\begin{tabular}{r|lllllllllllllllllllll}\n",
       "  & diagnosis & radius\\_mean & texture\\_mean & perimeter\\_mean & area\\_mean & smoothness\\_mean & compactness\\_mean & concavity\\_mean & concave.points\\_mean & symmetry\\_mean & ... & radius\\_worst & texture\\_worst & perimeter\\_worst & area\\_worst & smoothness\\_worst & compactness\\_worst & concavity\\_worst & concave.points\\_worst & symmetry\\_worst & fractal\\_dimension\\_worst\\\\\n",
       "  & <fct> & <dbl> & <dbl> & <dbl> & <dbl> & <dbl> & <dbl> & <dbl> & <dbl> & <dbl> & ... & <dbl> & <dbl> & <dbl> & <dbl> & <dbl> & <dbl> & <dbl> & <dbl> & <dbl> & <dbl>\\\\\n",
       "\\hline\n",
       "\t2 & 1 & 20.57 & 17.77 & 132.90 & 1326.0 & 0.08474 & 0.07864 & 0.08690 & 0.07017 & 0.1812 & ... & 24.99 & 23.41 & 158.8 & 1956.0 & 0.1238 & 0.1866 & 0.2416 & 0.1860 & 0.2750 & 0.08902\\\\\n",
       "\t3 & 1 & 19.69 & 21.25 & 130.00 & 1203.0 & 0.10960 & 0.15990 & 0.19740 & 0.12790 & 0.2069 & ... & 23.57 & 25.53 & 152.5 & 1709.0 & 0.1444 & 0.4245 & 0.4504 & 0.2430 & 0.3613 & 0.08758\\\\\n",
       "\t9 & 1 & 13.00 & 21.82 &  87.50 &  519.8 & 0.12730 & 0.19320 & 0.18590 & 0.09353 & 0.2350 & ... & 15.49 & 30.73 & 106.2 &  739.3 & 0.1703 & 0.5401 & 0.5390 & 0.2060 & 0.4378 & 0.10720\\\\\n",
       "\t13 & 1 & 19.17 & 24.80 & 132.40 & 1123.0 & 0.09740 & 0.24580 & 0.20650 & 0.11180 & 0.2397 & ... & 20.96 & 29.94 & 151.7 & 1332.0 & 0.1037 & 0.3903 & 0.3639 & 0.1767 & 0.3176 & 0.10230\\\\\n",
       "\t16 & 1 & 14.54 & 27.54 &  96.73 &  658.8 & 0.11390 & 0.15950 & 0.16390 & 0.07364 & 0.2303 & ... & 17.46 & 37.13 & 124.1 &  943.2 & 0.1678 & 0.6577 & 0.7026 & 0.1712 & 0.4218 & 0.13410\\\\\n",
       "\t20 & 0 & 13.54 & 14.36 &  87.46 &  566.3 & 0.09779 & 0.08129 & 0.06664 & 0.04781 & 0.1885 & ... & 15.11 & 19.26 &  99.7 &  711.2 & 0.1440 & 0.1773 & 0.2390 & 0.1288 & 0.2977 & 0.07259\\\\\n",
       "\\end{tabular}\n"
      ],
      "text/markdown": [
       "\n",
       "A data.frame: 6 × 31\n",
       "\n",
       "| <!--/--> | diagnosis &lt;fct&gt; | radius_mean &lt;dbl&gt; | texture_mean &lt;dbl&gt; | perimeter_mean &lt;dbl&gt; | area_mean &lt;dbl&gt; | smoothness_mean &lt;dbl&gt; | compactness_mean &lt;dbl&gt; | concavity_mean &lt;dbl&gt; | concave.points_mean &lt;dbl&gt; | symmetry_mean &lt;dbl&gt; | ... ... | radius_worst &lt;dbl&gt; | texture_worst &lt;dbl&gt; | perimeter_worst &lt;dbl&gt; | area_worst &lt;dbl&gt; | smoothness_worst &lt;dbl&gt; | compactness_worst &lt;dbl&gt; | concavity_worst &lt;dbl&gt; | concave.points_worst &lt;dbl&gt; | symmetry_worst &lt;dbl&gt; | fractal_dimension_worst &lt;dbl&gt; |\n",
       "|---|---|---|---|---|---|---|---|---|---|---|---|---|---|---|---|---|---|---|---|---|---|\n",
       "| 2 | 1 | 20.57 | 17.77 | 132.90 | 1326.0 | 0.08474 | 0.07864 | 0.08690 | 0.07017 | 0.1812 | ... | 24.99 | 23.41 | 158.8 | 1956.0 | 0.1238 | 0.1866 | 0.2416 | 0.1860 | 0.2750 | 0.08902 |\n",
       "| 3 | 1 | 19.69 | 21.25 | 130.00 | 1203.0 | 0.10960 | 0.15990 | 0.19740 | 0.12790 | 0.2069 | ... | 23.57 | 25.53 | 152.5 | 1709.0 | 0.1444 | 0.4245 | 0.4504 | 0.2430 | 0.3613 | 0.08758 |\n",
       "| 9 | 1 | 13.00 | 21.82 |  87.50 |  519.8 | 0.12730 | 0.19320 | 0.18590 | 0.09353 | 0.2350 | ... | 15.49 | 30.73 | 106.2 |  739.3 | 0.1703 | 0.5401 | 0.5390 | 0.2060 | 0.4378 | 0.10720 |\n",
       "| 13 | 1 | 19.17 | 24.80 | 132.40 | 1123.0 | 0.09740 | 0.24580 | 0.20650 | 0.11180 | 0.2397 | ... | 20.96 | 29.94 | 151.7 | 1332.0 | 0.1037 | 0.3903 | 0.3639 | 0.1767 | 0.3176 | 0.10230 |\n",
       "| 16 | 1 | 14.54 | 27.54 |  96.73 |  658.8 | 0.11390 | 0.15950 | 0.16390 | 0.07364 | 0.2303 | ... | 17.46 | 37.13 | 124.1 |  943.2 | 0.1678 | 0.6577 | 0.7026 | 0.1712 | 0.4218 | 0.13410 |\n",
       "| 20 | 0 | 13.54 | 14.36 |  87.46 |  566.3 | 0.09779 | 0.08129 | 0.06664 | 0.04781 | 0.1885 | ... | 15.11 | 19.26 |  99.7 |  711.2 | 0.1440 | 0.1773 | 0.2390 | 0.1288 | 0.2977 | 0.07259 |\n",
       "\n"
      ],
      "text/plain": [
       "   diagnosis radius_mean texture_mean perimeter_mean area_mean smoothness_mean\n",
       "2  1         20.57       17.77        132.90         1326.0    0.08474        \n",
       "3  1         19.69       21.25        130.00         1203.0    0.10960        \n",
       "9  1         13.00       21.82         87.50          519.8    0.12730        \n",
       "13 1         19.17       24.80        132.40         1123.0    0.09740        \n",
       "16 1         14.54       27.54         96.73          658.8    0.11390        \n",
       "20 0         13.54       14.36         87.46          566.3    0.09779        \n",
       "   compactness_mean concavity_mean concave.points_mean symmetry_mean ...\n",
       "2  0.07864          0.08690        0.07017             0.1812        ...\n",
       "3  0.15990          0.19740        0.12790             0.2069        ...\n",
       "9  0.19320          0.18590        0.09353             0.2350        ...\n",
       "13 0.24580          0.20650        0.11180             0.2397        ...\n",
       "16 0.15950          0.16390        0.07364             0.2303        ...\n",
       "20 0.08129          0.06664        0.04781             0.1885        ...\n",
       "   radius_worst texture_worst perimeter_worst area_worst smoothness_worst\n",
       "2  24.99        23.41         158.8           1956.0     0.1238          \n",
       "3  23.57        25.53         152.5           1709.0     0.1444          \n",
       "9  15.49        30.73         106.2            739.3     0.1703          \n",
       "13 20.96        29.94         151.7           1332.0     0.1037          \n",
       "16 17.46        37.13         124.1            943.2     0.1678          \n",
       "20 15.11        19.26          99.7            711.2     0.1440          \n",
       "   compactness_worst concavity_worst concave.points_worst symmetry_worst\n",
       "2  0.1866            0.2416          0.1860               0.2750        \n",
       "3  0.4245            0.4504          0.2430               0.3613        \n",
       "9  0.5401            0.5390          0.2060               0.4378        \n",
       "13 0.3903            0.3639          0.1767               0.3176        \n",
       "16 0.6577            0.7026          0.1712               0.4218        \n",
       "20 0.1773            0.2390          0.1288               0.2977        \n",
       "   fractal_dimension_worst\n",
       "2  0.08902                \n",
       "3  0.08758                \n",
       "9  0.10720                \n",
       "13 0.10230                \n",
       "16 0.13410                \n",
       "20 0.07259                "
      ]
     },
     "metadata": {},
     "output_type": "display_data"
    }
   ],
   "source": [
    "# view training and test sets\n",
    "head(train)\n",
    "head(test)"
   ]
  },
  {
   "cell_type": "code",
   "execution_count": 15,
   "id": "4c207ac5-cc5b-4e5c-9eaa-0cf6a5e60a7a",
   "metadata": {},
   "outputs": [],
   "source": [
    "# finally turn the diagnosis column into numeric for the models\n",
    "bc$diagnosis <- as.numeric(bc$diagnosis)"
   ]
  },
  {
   "cell_type": "markdown",
   "id": "7ea57690-e0ed-425a-b88b-a01b1817a47d",
   "metadata": {},
   "source": [
    "### Correlation Matrix"
   ]
  },
  {
   "cell_type": "code",
   "execution_count": 16,
   "id": "21271f42-7e54-42d2-a586-ae6d8365948d",
   "metadata": {},
   "outputs": [
    {
     "name": "stderr",
     "output_type": "stream",
     "text": [
      "corrplot 0.92 loaded\n",
      "\n"
     ]
    },
    {
     "data": {
      "image/png": "[encoded data removed]",
      "text/plain": [
       "Plot with title \"\""
      ]
     },
     "metadata": {
      "image/png": {
       "height": 420,
       "width": 420
      }
     },
     "output_type": "display_data"
    },
    {
     "data": {
      "image/png": "[encoded data removed]",
      "text/plain": [
       "Plot with title \"\""
      ]
     },
     "metadata": {
      "image/png": {
       "height": 420,
       "width": 420
      }
     },
     "output_type": "display_data"
    }
   ],
   "source": [
    "library(\"corrplot\")\n",
    "corrplot(cor(bc), method = \"pie\")\n",
    "corrplot(cor(bc), method = \"shade\")"
   ]
  },
  {
   "cell_type": "markdown",
   "id": "33b2dcbc-6304-4fbc-9176-18199f98ddbe",
   "metadata": {},
   "source": [
    "### Accuracy Function for Models"
   ]
  },
  {
   "cell_type": "code",
   "execution_count": 17,
   "id": "8f3a59d7-2898-49d7-aee7-484d93340b0b",
   "metadata": {},
   "outputs": [],
   "source": [
    "accuracy <- function(model){\n",
    "    pred <- predict(model, test, type = \"class\") #predicts values from the model and test dataset\n",
    "    cm <- table(Predicted = pred, Actual = test$diagnosis) #creates a confusion matrix with predicted values and actual values\n",
    "    print(cm)\n",
    "    print(\"Accuracy\")\n",
    "    print(sum(diag(cm)) / sum(cm)) #takes sum of diagonal values and divides that by the sum of all values in the confusion matrix\n",
    "}"
   ]
  },
  {
   "cell_type": "markdown",
   "id": "d6d8edf9-9170-4907-9dac-46af2465cea7",
   "metadata": {},
   "source": [
    "### SVM Model"
   ]
  },
  {
   "cell_type": "code",
   "execution_count": 18,
   "id": "da71ccc4-7a89-41fe-b1dd-42dd3dfc63c6",
   "metadata": {},
   "outputs": [],
   "source": [
    "library(e1071)"
   ]
  },
  {
   "cell_type": "code",
   "execution_count": 19,
   "id": "d43893c0-ed8f-4646-aced-d6fe75f7f986",
   "metadata": {},
   "outputs": [
    {
     "data": {
      "text/plain": [
       "\n",
       "Call:\n",
       "svm(formula = train$diagnosis ~ ., data = train)\n",
       "\n",
       "\n",
       "Parameters:\n",
       "   SVM-Type:  C-classification \n",
       " SVM-Kernel:  radial \n",
       "       cost:  1 \n",
       "\n",
       "Number of Support Vectors:  102\n",
       "\n",
       " ( 53 49 )\n",
       "\n",
       "\n",
       "Number of Classes:  2 \n",
       "\n",
       "Levels: \n",
       " 0 1\n",
       "\n",
       "\n"
      ]
     },
     "metadata": {},
     "output_type": "display_data"
    }
   ],
   "source": [
    "svm_model <- svm(train$diagnosis~., data=train) #creates SVM model\n",
    "summary(svm_model)"
   ]
  },
  {
   "cell_type": "code",
   "execution_count": 20,
   "id": "e322ed5a-60a6-4c8d-b1dd-6c419822bf5a",
   "metadata": {},
   "outputs": [
    {
     "name": "stdout",
     "output_type": "stream",
     "text": [
      "         Actual\n",
      "Predicted  0  1\n",
      "        0 70  3\n",
      "        1  0 40\n",
      "[1] \"Accuracy\"\n",
      "[1] 0.9734513\n"
     ]
    }
   ],
   "source": [
    "accuracy(model = svm_model) #calls function above"
   ]
  },
  {
   "cell_type": "markdown",
   "id": "d2b51600-c167-48be-a969-03697bab42d4",
   "metadata": {},
   "source": [
    "### Decision Tree Classification"
   ]
  },
  {
   "cell_type": "code",
   "execution_count": 21,
   "id": "647527ff-4825-4a39-99f4-c80754749d44",
   "metadata": {},
   "outputs": [],
   "source": [
    "#install.packages('rpart.plot')\n",
    "library(rpart)\n",
    "library(rpart.plot)"
   ]
  },
  {
   "cell_type": "code",
   "execution_count": 22,
   "id": "8e7668cc-326d-4d48-9722-38feb5cc3296",
   "metadata": {},
   "outputs": [
    {
     "data": {
      "image/png": "[encoded data removed]",
      "text/plain": [
       "plot without title"
      ]
     },
     "metadata": {
      "image/png": {
       "height": 420,
       "width": 420
      }
     },
     "output_type": "display_data"
    },
    {
     "data": {
      "image/png": "[encoded data removed]",
      "text/plain": [
       "plot without title"
      ]
     },
     "metadata": {
      "image/png": {
       "height": 420,
       "width": 420
      }
     },
     "output_type": "display_data"
    },
    {
     "data": {
      "image/png": "[encoded data removed]",
      "text/plain": [
       "plot without title"
      ]
     },
     "metadata": {
      "image/png": {
       "height": 420,
       "width": 420
      }
     },
     "output_type": "display_data"
    }
   ],
   "source": [
    "tree_model <- rpart(train$diagnosis~., data=train, method = 'class')\n",
    "rpart.plot(tree_model) #plots what the actual tree looks like\n",
    "plotcp(tree_model) #plots the complexity parameter of the decision tree\n",
    "plot(tree_model) #plots the outline of the decision tree"
   ]
  },
  {
   "cell_type": "code",
   "execution_count": 23,
   "id": "53509ca2-93b6-47f5-9ad5-a37ef4060a5d",
   "metadata": {},
   "outputs": [
    {
     "name": "stdout",
     "output_type": "stream",
     "text": [
      "         Actual\n",
      "Predicted  0  1\n",
      "        0 68  8\n",
      "        1  2 35\n",
      "[1] \"Accuracy\"\n",
      "[1] 0.9115044\n"
     ]
    }
   ],
   "source": [
    "accuracy(model = tree_model)"
   ]
  },
  {
   "cell_type": "markdown",
   "id": "03a5ddaf-0190-4765-a38d-9abe9d764406",
   "metadata": {},
   "source": [
    "### Results"
   ]
  },
  {
   "cell_type": "markdown",
   "id": "a5722728-5a43-464e-b7f1-28b1144cd97d",
   "metadata": {},
   "source": [
    "As seen above, the models do extremely well when given the approximately 450 datapoints for training and 110 for testing. There perhaps is some slight overfitting with the SVM model compared to the Decision Tree model. This may be due to the fact that the dataset does not have much noise and is not too big, making it perfect for an SVM to classify a potential diagnosis."
   ]
  },
  {
   "cell_type": "markdown",
   "id": "1e0a5b63-ce1b-4b2e-ad8c-839e0e9df2cc",
   "metadata": {},
   "source": [
    "## Neural Networks\n",
    "### import and preprocess data for neural networks"
   ]
  },
  {
   "cell_type": "code",
   "execution_count": 24,
   "id": "50bec1c6-16be-49d2-a7e8-2f808cbaf40c",
   "metadata": {},
   "outputs": [],
   "source": [
    "# load data from csv file\n",
    "bc <- read.csv(\"breast-cancer.csv\")"
   ]
  },
  {
   "cell_type": "code",
   "execution_count": 25,
   "id": "6315377a-ff55-4d21-82bb-ac8a9a268195",
   "metadata": {},
   "outputs": [],
   "source": [
    "# remove ID column\n",
    "bc <- bc[,-1]"
   ]
  },
  {
   "cell_type": "code",
   "execution_count": 26,
   "id": "482b7986-0fb1-423a-ae65-91a690c7449b",
   "metadata": {},
   "outputs": [],
   "source": [
    "# convert predicted values to numeric (1 = M, 0 = B)\n",
    "bc$diagnosis <-ifelse(bc$diagnosis==\"M\",1,0)"
   ]
  },
  {
   "cell_type": "code",
   "execution_count": 27,
   "id": "7d3cd11a-9137-4f6f-a001-f70a8a16c2c6",
   "metadata": {},
   "outputs": [
    {
     "data": {
      "text/html": [
       "<style>\n",
       ".list-inline {list-style: none; margin:0; padding: 0}\n",
       ".list-inline>li {display: inline-block}\n",
       ".list-inline>li:not(:last-child)::after {content: \"\\00b7\"; padding: 0 .5ex}\n",
       "</style>\n",
       "<ol class=list-inline><li>456</li><li>31</li></ol>\n"
      ],
      "text/latex": [
       "\\begin{enumerate*}\n",
       "\\item 456\n",
       "\\item 31\n",
       "\\end{enumerate*}\n"
      ],
      "text/markdown": [
       "1. 456\n",
       "2. 31\n",
       "\n",
       "\n"
      ],
      "text/plain": [
       "[1] 456  31"
      ]
     },
     "metadata": {},
     "output_type": "display_data"
    },
    {
     "data": {
      "text/html": [
       "<style>\n",
       ".list-inline {list-style: none; margin:0; padding: 0}\n",
       ".list-inline>li {display: inline-block}\n",
       ".list-inline>li:not(:last-child)::after {content: \"\\00b7\"; padding: 0 .5ex}\n",
       "</style>\n",
       "<ol class=list-inline><li>113</li><li>31</li></ol>\n"
      ],
      "text/latex": [
       "\\begin{enumerate*}\n",
       "\\item 113\n",
       "\\item 31\n",
       "\\end{enumerate*}\n"
      ],
      "text/markdown": [
       "1. 113\n",
       "2. 31\n",
       "\n",
       "\n"
      ],
      "text/plain": [
       "[1] 113  31"
      ]
     },
     "metadata": {},
     "output_type": "display_data"
    }
   ],
   "source": [
    "# split to train and test\n",
    "split1 <- sample(c(rep(0, 0.8 * nrow(bc)), rep(1, 0.2 * nrow(bc)))) #80% train, 20% test\n",
    "# create training and test sets\n",
    "train <- bc[split1 == 0,]\n",
    "test <- bc[split1 == 1,]\n",
    "# check dimensions for both\n",
    "dim(train)\n",
    "dim(test)"
   ]
  },
  {
   "cell_type": "markdown",
   "id": "e8bb80bd-cad0-450d-8806-d2311180a557",
   "metadata": {},
   "source": [
    "### Using keras/tensorflow for classifcation with neural networks"
   ]
  },
  {
   "cell_type": "code",
   "execution_count": 28,
   "id": "e4cb159b-cfc4-4046-b529-e29ccb8fbc1a",
   "metadata": {},
   "outputs": [],
   "source": [
    "# import libraries\n",
    "library('keras')\n",
    "library('tensorflow')"
   ]
  },
  {
   "cell_type": "markdown",
   "id": "d4337670-1af6-462f-bb24-477b738c4b4b",
   "metadata": {},
   "source": [
    "### Some more data preprocessing..."
   ]
  },
  {
   "cell_type": "code",
   "execution_count": 29,
   "id": "706bef2d-79f5-4af4-8ede-8ee85c06be07",
   "metadata": {},
   "outputs": [],
   "source": [
    "# scale/normalize training and test sets\n",
    "m <- colMeans(train[,-1])\n",
    "s <- apply(train[,-1], 2, sd)\n",
    "train[,-1] <- scale(train[,-1], center = m, scale = s)\n",
    "test[,-1] <- scale(test[,-1], center = m, scale = s)"
   ]
  },
  {
   "cell_type": "code",
   "execution_count": 30,
   "id": "57825299-1c5b-45d9-85e0-7cdd5eeb4bb0",
   "metadata": {},
   "outputs": [
    {
     "data": {
      "text/html": [
       "31"
      ],
      "text/latex": [
       "31"
      ],
      "text/markdown": [
       "31"
      ],
      "text/plain": [
       "[1] 31"
      ]
     },
     "metadata": {},
     "output_type": "display_data"
    },
    {
     "data": {
      "text/html": [
       "<table class=\"dataframe\">\n",
       "<caption>A matrix: 6 × 31 of type dbl</caption>\n",
       "<thead>\n",
       "\t<tr><th></th><th scope=col>(Intercept)</th><th scope=col>radius_mean</th><th scope=col>texture_mean</th><th scope=col>perimeter_mean</th><th scope=col>area_mean</th><th scope=col>smoothness_mean</th><th scope=col>compactness_mean</th><th scope=col>concavity_mean</th><th scope=col>concave.points_mean</th><th scope=col>symmetry_mean</th><th scope=col>...</th><th scope=col>radius_worst</th><th scope=col>texture_worst</th><th scope=col>perimeter_worst</th><th scope=col>area_worst</th><th scope=col>smoothness_worst</th><th scope=col>compactness_worst</th><th scope=col>concavity_worst</th><th scope=col>concave.points_worst</th><th scope=col>symmetry_worst</th><th scope=col>fractal_dimension_worst</th></tr>\n",
       "</thead>\n",
       "<tbody>\n",
       "\t<tr><th scope=row>1</th><td>1</td><td> 1.13698183</td><td>-2.0394908</td><td> 1.31647077</td><td> 1.0227866</td><td> 1.5938730</td><td> 3.325631</td><td>2.81096721</td><td>2.6080614</td><td>2.245271330</td><td>...</td><td> 1.9328698</td><td>-1.340544830</td><td> 2.36240708</td><td> 2.05850965</td><td> 1.3338083</td><td> 2.7367431</td><td> 2.21896354</td><td>2.3298216</td><td> 2.7277229</td><td>2.0217506</td></tr>\n",
       "\t<tr><th scope=row>2</th><td>1</td><td> 1.87911910</td><td>-0.3301302</td><td> 1.73859814</td><td> 1.9586375</td><td>-0.8187316</td><td>-0.458908</td><td>0.02060791</td><td>0.5893697</td><td>0.004194045</td><td>...</td><td> 1.8510499</td><td>-0.346013358</td><td> 1.58264216</td><td> 1.94587519</td><td>-0.3633134</td><td>-0.4055607</td><td>-0.10568998</td><td>1.1193758</td><td>-0.2333782</td><td>0.3205759</td></tr>\n",
       "\t<tr><th scope=row>3</th><td>1</td><td> 1.62598700</td><td> 0.4748190</td><td> 1.61739325</td><td> 1.6044539</td><td> 0.9631267</td><td> 1.086788</td><td>1.46683072</td><td>2.1042413</td><td>0.953052137</td><td>...</td><td> 1.5531415</td><td> 0.000764064</td><td> 1.39223445</td><td> 1.50427659</td><td> 0.5471217</td><td> 1.1550950</td><td> 0.92639094</td><td>1.9883357</td><td> 1.1471892</td><td>0.2385916</td></tr>\n",
       "\t<tr><th scope=row>4</th><td>1</td><td>-0.75287936</td><td> 0.2735817</td><td>-0.57348958</td><td>-0.7478434</td><td> 3.3212578</td><td> 3.445467</td><td>2.04270224</td><td>1.5085790</td><td>2.902457090</td><td>...</td><td>-0.2636801</td><td> 0.159431092</td><td>-0.22864899</td><td>-0.53619500</td><td> 3.4375322</td><td> 4.0533618</td><td> 2.09539063</td><td>2.2093868</td><td> 5.9863739</td><td>5.1018561</td></tr>\n",
       "\t<tr><th scope=row>6</th><td>1</td><td>-0.45659975</td><td>-0.8089362</td><td>-0.36493358</td><td>-0.4858051</td><td> 2.2676247</td><td> 1.278906</td><td>0.94854634</td><td>0.8706693</td><td>1.019509124</td><td>...</td><td>-0.1461951</td><td>-0.290398111</td><td>-0.09173678</td><td>-0.22528813</td><td> 2.0807187</td><td> 1.8137324</td><td> 1.34703311</td><td>0.9379614</td><td> 1.7422889</td><td>2.3348852</td></tr>\n",
       "\t<tr><th scope=row>8</th><td>1</td><td>-0.09416062</td><td> 0.3776699</td><td>-0.04603934</td><td>-0.1955474</td><td> 1.6297109</td><td> 1.174287</td><td>0.10908272</td><td>0.3185664</td><td>1.421943101</td><td>...</td><td> 0.1873784</td><td> 0.427692871</td><td> 0.12587204</td><td> 0.05254354</td><td> 1.4752352</td><td> 0.7857595</td><td> 0.02381443</td><td>0.6559306</td><td> 0.4801016</td><td>1.8054031</td></tr>\n",
       "</tbody>\n",
       "</table>\n"
      ],
      "text/latex": [
       "A matrix: 6 × 31 of type dbl\n",
       "\\begin{tabular}{r|lllllllllllllllllllll}\n",
       "  & (Intercept) & radius\\_mean & texture\\_mean & perimeter\\_mean & area\\_mean & smoothness\\_mean & compactness\\_mean & concavity\\_mean & concave.points\\_mean & symmetry\\_mean & ... & radius\\_worst & texture\\_worst & perimeter\\_worst & area\\_worst & smoothness\\_worst & compactness\\_worst & concavity\\_worst & concave.points\\_worst & symmetry\\_worst & fractal\\_dimension\\_worst\\\\\n",
       "\\hline\n",
       "\t1 & 1 &  1.13698183 & -2.0394908 &  1.31647077 &  1.0227866 &  1.5938730 &  3.325631 & 2.81096721 & 2.6080614 & 2.245271330 & ... &  1.9328698 & -1.340544830 &  2.36240708 &  2.05850965 &  1.3338083 &  2.7367431 &  2.21896354 & 2.3298216 &  2.7277229 & 2.0217506\\\\\n",
       "\t2 & 1 &  1.87911910 & -0.3301302 &  1.73859814 &  1.9586375 & -0.8187316 & -0.458908 & 0.02060791 & 0.5893697 & 0.004194045 & ... &  1.8510499 & -0.346013358 &  1.58264216 &  1.94587519 & -0.3633134 & -0.4055607 & -0.10568998 & 1.1193758 & -0.2333782 & 0.3205759\\\\\n",
       "\t3 & 1 &  1.62598700 &  0.4748190 &  1.61739325 &  1.6044539 &  0.9631267 &  1.086788 & 1.46683072 & 2.1042413 & 0.953052137 & ... &  1.5531415 &  0.000764064 &  1.39223445 &  1.50427659 &  0.5471217 &  1.1550950 &  0.92639094 & 1.9883357 &  1.1471892 & 0.2385916\\\\\n",
       "\t4 & 1 & -0.75287936 &  0.2735817 & -0.57348958 & -0.7478434 &  3.3212578 &  3.445467 & 2.04270224 & 1.5085790 & 2.902457090 & ... & -0.2636801 &  0.159431092 & -0.22864899 & -0.53619500 &  3.4375322 &  4.0533618 &  2.09539063 & 2.2093868 &  5.9863739 & 5.1018561\\\\\n",
       "\t6 & 1 & -0.45659975 & -0.8089362 & -0.36493358 & -0.4858051 &  2.2676247 &  1.278906 & 0.94854634 & 0.8706693 & 1.019509124 & ... & -0.1461951 & -0.290398111 & -0.09173678 & -0.22528813 &  2.0807187 &  1.8137324 &  1.34703311 & 0.9379614 &  1.7422889 & 2.3348852\\\\\n",
       "\t8 & 1 & -0.09416062 &  0.3776699 & -0.04603934 & -0.1955474 &  1.6297109 &  1.174287 & 0.10908272 & 0.3185664 & 1.421943101 & ... &  0.1873784 &  0.427692871 &  0.12587204 &  0.05254354 &  1.4752352 &  0.7857595 &  0.02381443 & 0.6559306 &  0.4801016 & 1.8054031\\\\\n",
       "\\end{tabular}\n"
      ],
      "text/markdown": [
       "\n",
       "A matrix: 6 × 31 of type dbl\n",
       "\n",
       "| <!--/--> | (Intercept) | radius_mean | texture_mean | perimeter_mean | area_mean | smoothness_mean | compactness_mean | concavity_mean | concave.points_mean | symmetry_mean | ... | radius_worst | texture_worst | perimeter_worst | area_worst | smoothness_worst | compactness_worst | concavity_worst | concave.points_worst | symmetry_worst | fractal_dimension_worst |\n",
       "|---|---|---|---|---|---|---|---|---|---|---|---|---|---|---|---|---|---|---|---|---|---|\n",
       "| 1 | 1 |  1.13698183 | -2.0394908 |  1.31647077 |  1.0227866 |  1.5938730 |  3.325631 | 2.81096721 | 2.6080614 | 2.245271330 | ... |  1.9328698 | -1.340544830 |  2.36240708 |  2.05850965 |  1.3338083 |  2.7367431 |  2.21896354 | 2.3298216 |  2.7277229 | 2.0217506 |\n",
       "| 2 | 1 |  1.87911910 | -0.3301302 |  1.73859814 |  1.9586375 | -0.8187316 | -0.458908 | 0.02060791 | 0.5893697 | 0.004194045 | ... |  1.8510499 | -0.346013358 |  1.58264216 |  1.94587519 | -0.3633134 | -0.4055607 | -0.10568998 | 1.1193758 | -0.2333782 | 0.3205759 |\n",
       "| 3 | 1 |  1.62598700 |  0.4748190 |  1.61739325 |  1.6044539 |  0.9631267 |  1.086788 | 1.46683072 | 2.1042413 | 0.953052137 | ... |  1.5531415 |  0.000764064 |  1.39223445 |  1.50427659 |  0.5471217 |  1.1550950 |  0.92639094 | 1.9883357 |  1.1471892 | 0.2385916 |\n",
       "| 4 | 1 | -0.75287936 |  0.2735817 | -0.57348958 | -0.7478434 |  3.3212578 |  3.445467 | 2.04270224 | 1.5085790 | 2.902457090 | ... | -0.2636801 |  0.159431092 | -0.22864899 | -0.53619500 |  3.4375322 |  4.0533618 |  2.09539063 | 2.2093868 |  5.9863739 | 5.1018561 |\n",
       "| 6 | 1 | -0.45659975 | -0.8089362 | -0.36493358 | -0.4858051 |  2.2676247 |  1.278906 | 0.94854634 | 0.8706693 | 1.019509124 | ... | -0.1461951 | -0.290398111 | -0.09173678 | -0.22528813 |  2.0807187 |  1.8137324 |  1.34703311 | 0.9379614 |  1.7422889 | 2.3348852 |\n",
       "| 8 | 1 | -0.09416062 |  0.3776699 | -0.04603934 | -0.1955474 |  1.6297109 |  1.174287 | 0.10908272 | 0.3185664 | 1.421943101 | ... |  0.1873784 |  0.427692871 |  0.12587204 |  0.05254354 |  1.4752352 |  0.7857595 |  0.02381443 | 0.6559306 |  0.4801016 | 1.8054031 |\n",
       "\n"
      ],
      "text/plain": [
       "  (Intercept) radius_mean texture_mean perimeter_mean area_mean \n",
       "1 1            1.13698183 -2.0394908    1.31647077     1.0227866\n",
       "2 1            1.87911910 -0.3301302    1.73859814     1.9586375\n",
       "3 1            1.62598700  0.4748190    1.61739325     1.6044539\n",
       "4 1           -0.75287936  0.2735817   -0.57348958    -0.7478434\n",
       "6 1           -0.45659975 -0.8089362   -0.36493358    -0.4858051\n",
       "8 1           -0.09416062  0.3776699   -0.04603934    -0.1955474\n",
       "  smoothness_mean compactness_mean concavity_mean concave.points_mean\n",
       "1  1.5938730       3.325631        2.81096721     2.6080614          \n",
       "2 -0.8187316      -0.458908        0.02060791     0.5893697          \n",
       "3  0.9631267       1.086788        1.46683072     2.1042413          \n",
       "4  3.3212578       3.445467        2.04270224     1.5085790          \n",
       "6  2.2676247       1.278906        0.94854634     0.8706693          \n",
       "8  1.6297109       1.174287        0.10908272     0.3185664          \n",
       "  symmetry_mean ... radius_worst texture_worst perimeter_worst area_worst \n",
       "1 2.245271330   ...  1.9328698   -1.340544830   2.36240708      2.05850965\n",
       "2 0.004194045   ...  1.8510499   -0.346013358   1.58264216      1.94587519\n",
       "3 0.953052137   ...  1.5531415    0.000764064   1.39223445      1.50427659\n",
       "4 2.902457090   ... -0.2636801    0.159431092  -0.22864899     -0.53619500\n",
       "6 1.019509124   ... -0.1461951   -0.290398111  -0.09173678     -0.22528813\n",
       "8 1.421943101   ...  0.1873784    0.427692871   0.12587204      0.05254354\n",
       "  smoothness_worst compactness_worst concavity_worst concave.points_worst\n",
       "1  1.3338083        2.7367431         2.21896354     2.3298216           \n",
       "2 -0.3633134       -0.4055607        -0.10568998     1.1193758           \n",
       "3  0.5471217        1.1550950         0.92639094     1.9883357           \n",
       "4  3.4375322        4.0533618         2.09539063     2.2093868           \n",
       "6  2.0807187        1.8137324         1.34703311     0.9379614           \n",
       "8  1.4752352        0.7857595         0.02381443     0.6559306           \n",
       "  symmetry_worst fractal_dimension_worst\n",
       "1  2.7277229     2.0217506              \n",
       "2 -0.2333782     0.3205759              \n",
       "3  1.1471892     0.2385916              \n",
       "4  5.9863739     5.1018561              \n",
       "6  1.7422889     2.3348852              \n",
       "8  0.4801016     1.8054031              "
      ]
     },
     "metadata": {},
     "output_type": "display_data"
    },
    {
     "data": {
      "text/html": [
       "<style>\n",
       ".list-inline {list-style: none; margin:0; padding: 0}\n",
       ".list-inline>li {display: inline-block}\n",
       ".list-inline>li:not(:last-child)::after {content: \"\\00b7\"; padding: 0 .5ex}\n",
       "</style>\n",
       "<ol class=list-inline><li>1</li><li>1</li><li>1</li><li>1</li><li>1</li><li>1</li><li>1</li><li>1</li><li>1</li><li>1</li><li>1</li><li>1</li><li>1</li><li>1</li><li>0</li><li>0</li><li>1</li><li>1</li><li>1</li><li>1</li><li>1</li><li>1</li><li>1</li><li>1</li><li>1</li><li>1</li><li>1</li><li>0</li><li>1</li><li>1</li><li>1</li><li>1</li><li>1</li><li>1</li><li>0</li><li>1</li><li>0</li><li>0</li><li>0</li><li>0</li><li>1</li><li>1</li><li>0</li><li>1</li><li>1</li><li>0</li><li>0</li><li>0</li><li>0</li><li>1</li><li>1</li><li>0</li><li>0</li><li>0</li><li>0</li><li>1</li><li>0</li><li>1</li><li>1</li><li>0</li><li>1</li><li>0</li><li>1</li><li>1</li><li>0</li><li>0</li><li>0</li><li>1</li><li>0</li><li>1</li><li>1</li><li>1</li><li>0</li><li>0</li><li>0</li><li>1</li><li>0</li><li>0</li><li>1</li><li>1</li><li>0</li><li>0</li><li>0</li><li>1</li><li>1</li><li>0</li><li>0</li><li>1</li><li>0</li><li>1</li><li>0</li><li>0</li><li>0</li><li>0</li><li>0</li><li>0</li><li>0</li><li>1</li><li>1</li><li>0</li><li>1</li><li>0</li><li>0</li><li>1</li><li>1</li><li>0</li><li>0</li><li>1</li><li>0</li><li>0</li><li>1</li><li>0</li><li>0</li><li>1</li><li>0</li><li>0</li><li>0</li><li>0</li><li>1</li><li>0</li><li>0</li><li>0</li><li>0</li><li>0</li><li>0</li><li>0</li><li>1</li><li>0</li><li>0</li><li>0</li><li>1</li><li>0</li><li>1</li><li>0</li><li>0</li><li>1</li><li>1</li><li>0</li><li>0</li><li>1</li><li>0</li><li>0</li><li>0</li><li>0</li><li>0</li><li>1</li><li>1</li><li>1</li><li>0</li><li>1</li><li>0</li><li>0</li><li>0</li><li>1</li><li>0</li><li>0</li><li>1</li><li>0</li><li>1</li><li>1</li><li>0</li><li>0</li><li>1</li><li>0</li><li>0</li><li>1</li><li>0</li><li>1</li><li>1</li><li>0</li><li>0</li><li>1</li><li>1</li><li>0</li><li>1</li><li>0</li><li>0</li><li>0</li><li>0</li><li>0</li><li>1</li><li>0</li><li>1</li><li>1</li><li>0</li><li>1</li><li>0</li><li>0</li><li>0</li><li>0</li><li>1</li><li>0</li><li>0</li><li>0</li><li>0</li><li>1</li><li>0</li><li>1</li><li>1</li><li>1</li><li>...</li><li>1</li><li>0</li><li>1</li><li>0</li><li>0</li><li>0</li><li>0</li><li>1</li><li>0</li><li>0</li><li>0</li><li>1</li><li>0</li><li>0</li><li>0</li><li>0</li><li>0</li><li>1</li><li>0</li><li>0</li><li>0</li><li>0</li><li>0</li><li>1</li><li>1</li><li>0</li><li>0</li><li>0</li><li>0</li><li>0</li><li>0</li><li>0</li><li>0</li><li>0</li><li>0</li><li>1</li><li>1</li><li>1</li><li>1</li><li>0</li><li>1</li><li>1</li><li>0</li><li>0</li><li>0</li><li>0</li><li>1</li><li>0</li><li>0</li><li>0</li><li>1</li><li>0</li><li>0</li><li>0</li><li>1</li><li>0</li><li>0</li><li>1</li><li>1</li><li>0</li><li>0</li><li>0</li><li>0</li><li>0</li><li>0</li><li>1</li><li>0</li><li>0</li><li>0</li><li>0</li><li>0</li><li>0</li><li>0</li><li>0</li><li>0</li><li>0</li><li>0</li><li>1</li><li>0</li><li>0</li><li>1</li><li>0</li><li>0</li><li>0</li><li>0</li><li>0</li><li>0</li><li>0</li><li>0</li><li>0</li><li>0</li><li>1</li><li>1</li><li>0</li><li>1</li><li>0</li><li>0</li><li>0</li><li>0</li><li>0</li><li>1</li><li>1</li><li>0</li><li>0</li><li>1</li><li>1</li><li>0</li><li>0</li><li>0</li><li>0</li><li>0</li><li>0</li><li>1</li><li>1</li><li>0</li><li>0</li><li>0</li><li>0</li><li>0</li><li>0</li><li>0</li><li>0</li><li>0</li><li>0</li><li>0</li><li>0</li><li>1</li><li>0</li><li>0</li><li>0</li><li>1</li><li>0</li><li>1</li><li>0</li><li>0</li><li>1</li><li>0</li><li>0</li><li>0</li><li>0</li><li>1</li><li>1</li><li>0</li><li>1</li><li>1</li><li>0</li><li>0</li><li>0</li><li>1</li><li>0</li><li>1</li><li>0</li><li>1</li><li>0</li><li>1</li><li>0</li><li>0</li><li>0</li><li>1</li><li>0</li><li>0</li><li>0</li><li>0</li><li>0</li><li>0</li><li>0</li><li>0</li><li>0</li><li>0</li><li>1</li><li>0</li><li>1</li><li>1</li><li>0</li><li>0</li><li>0</li><li>0</li><li>0</li><li>0</li><li>0</li><li>0</li><li>0</li><li>0</li><li>0</li><li>0</li><li>0</li><li>0</li><li>0</li><li>0</li><li>0</li><li>0</li><li>0</li><li>0</li><li>0</li><li>0</li><li>1</li><li>1</li><li>1</li><li>1</li><li>0</li></ol>\n"
      ],
      "text/latex": [
       "\\begin{enumerate*}\n",
       "\\item 1\n",
       "\\item 1\n",
       "\\item 1\n",
       "\\item 1\n",
       "\\item 1\n",
       "\\item 1\n",
       "\\item 1\n",
       "\\item 1\n",
       "\\item 1\n",
       "\\item 1\n",
       "\\item 1\n",
       "\\item 1\n",
       "\\item 1\n",
       "\\item 1\n",
       "\\item 0\n",
       "\\item 0\n",
       "\\item 1\n",
       "\\item 1\n",
       "\\item 1\n",
       "\\item 1\n",
       "\\item 1\n",
       "\\item 1\n",
       "\\item 1\n",
       "\\item 1\n",
       "\\item 1\n",
       "\\item 1\n",
       "\\item 1\n",
       "\\item 0\n",
       "\\item 1\n",
       "\\item 1\n",
       "\\item 1\n",
       "\\item 1\n",
       "\\item 1\n",
       "\\item 1\n",
       "\\item 0\n",
       "\\item 1\n",
       "\\item 0\n",
       "\\item 0\n",
       "\\item 0\n",
       "\\item 0\n",
       "\\item 1\n",
       "\\item 1\n",
       "\\item 0\n",
       "\\item 1\n",
       "\\item 1\n",
       "\\item 0\n",
       "\\item 0\n",
       "\\item 0\n",
       "\\item 0\n",
       "\\item 1\n",
       "\\item 1\n",
       "\\item 0\n",
       "\\item 0\n",
       "\\item 0\n",
       "\\item 0\n",
       "\\item 1\n",
       "\\item 0\n",
       "\\item 1\n",
       "\\item 1\n",
       "\\item 0\n",
       "\\item 1\n",
       "\\item 0\n",
       "\\item 1\n",
       "\\item 1\n",
       "\\item 0\n",
       "\\item 0\n",
       "\\item 0\n",
       "\\item 1\n",
       "\\item 0\n",
       "\\item 1\n",
       "\\item 1\n",
       "\\item 1\n",
       "\\item 0\n",
       "\\item 0\n",
       "\\item 0\n",
       "\\item 1\n",
       "\\item 0\n",
       "\\item 0\n",
       "\\item 1\n",
       "\\item 1\n",
       "\\item 0\n",
       "\\item 0\n",
       "\\item 0\n",
       "\\item 1\n",
       "\\item 1\n",
       "\\item 0\n",
       "\\item 0\n",
       "\\item 1\n",
       "\\item 0\n",
       "\\item 1\n",
       "\\item 0\n",
       "\\item 0\n",
       "\\item 0\n",
       "\\item 0\n",
       "\\item 0\n",
       "\\item 0\n",
       "\\item 0\n",
       "\\item 1\n",
       "\\item 1\n",
       "\\item 0\n",
       "\\item 1\n",
       "\\item 0\n",
       "\\item 0\n",
       "\\item 1\n",
       "\\item 1\n",
       "\\item 0\n",
       "\\item 0\n",
       "\\item 1\n",
       "\\item 0\n",
       "\\item 0\n",
       "\\item 1\n",
       "\\item 0\n",
       "\\item 0\n",
       "\\item 1\n",
       "\\item 0\n",
       "\\item 0\n",
       "\\item 0\n",
       "\\item 0\n",
       "\\item 1\n",
       "\\item 0\n",
       "\\item 0\n",
       "\\item 0\n",
       "\\item 0\n",
       "\\item 0\n",
       "\\item 0\n",
       "\\item 0\n",
       "\\item 1\n",
       "\\item 0\n",
       "\\item 0\n",
       "\\item 0\n",
       "\\item 1\n",
       "\\item 0\n",
       "\\item 1\n",
       "\\item 0\n",
       "\\item 0\n",
       "\\item 1\n",
       "\\item 1\n",
       "\\item 0\n",
       "\\item 0\n",
       "\\item 1\n",
       "\\item 0\n",
       "\\item 0\n",
       "\\item 0\n",
       "\\item 0\n",
       "\\item 0\n",
       "\\item 1\n",
       "\\item 1\n",
       "\\item 1\n",
       "\\item 0\n",
       "\\item 1\n",
       "\\item 0\n",
       "\\item 0\n",
       "\\item 0\n",
       "\\item 1\n",
       "\\item 0\n",
       "\\item 0\n",
       "\\item 1\n",
       "\\item 0\n",
       "\\item 1\n",
       "\\item 1\n",
       "\\item 0\n",
       "\\item 0\n",
       "\\item 1\n",
       "\\item 0\n",
       "\\item 0\n",
       "\\item 1\n",
       "\\item 0\n",
       "\\item 1\n",
       "\\item 1\n",
       "\\item 0\n",
       "\\item 0\n",
       "\\item 1\n",
       "\\item 1\n",
       "\\item 0\n",
       "\\item 1\n",
       "\\item 0\n",
       "\\item 0\n",
       "\\item 0\n",
       "\\item 0\n",
       "\\item 0\n",
       "\\item 1\n",
       "\\item 0\n",
       "\\item 1\n",
       "\\item 1\n",
       "\\item 0\n",
       "\\item 1\n",
       "\\item 0\n",
       "\\item 0\n",
       "\\item 0\n",
       "\\item 0\n",
       "\\item 1\n",
       "\\item 0\n",
       "\\item 0\n",
       "\\item 0\n",
       "\\item 0\n",
       "\\item 1\n",
       "\\item 0\n",
       "\\item 1\n",
       "\\item 1\n",
       "\\item 1\n",
       "\\item ...\n",
       "\\item 1\n",
       "\\item 0\n",
       "\\item 1\n",
       "\\item 0\n",
       "\\item 0\n",
       "\\item 0\n",
       "\\item 0\n",
       "\\item 1\n",
       "\\item 0\n",
       "\\item 0\n",
       "\\item 0\n",
       "\\item 1\n",
       "\\item 0\n",
       "\\item 0\n",
       "\\item 0\n",
       "\\item 0\n",
       "\\item 0\n",
       "\\item 1\n",
       "\\item 0\n",
       "\\item 0\n",
       "\\item 0\n",
       "\\item 0\n",
       "\\item 0\n",
       "\\item 1\n",
       "\\item 1\n",
       "\\item 0\n",
       "\\item 0\n",
       "\\item 0\n",
       "\\item 0\n",
       "\\item 0\n",
       "\\item 0\n",
       "\\item 0\n",
       "\\item 0\n",
       "\\item 0\n",
       "\\item 0\n",
       "\\item 1\n",
       "\\item 1\n",
       "\\item 1\n",
       "\\item 1\n",
       "\\item 0\n",
       "\\item 1\n",
       "\\item 1\n",
       "\\item 0\n",
       "\\item 0\n",
       "\\item 0\n",
       "\\item 0\n",
       "\\item 1\n",
       "\\item 0\n",
       "\\item 0\n",
       "\\item 0\n",
       "\\item 1\n",
       "\\item 0\n",
       "\\item 0\n",
       "\\item 0\n",
       "\\item 1\n",
       "\\item 0\n",
       "\\item 0\n",
       "\\item 1\n",
       "\\item 1\n",
       "\\item 0\n",
       "\\item 0\n",
       "\\item 0\n",
       "\\item 0\n",
       "\\item 0\n",
       "\\item 0\n",
       "\\item 1\n",
       "\\item 0\n",
       "\\item 0\n",
       "\\item 0\n",
       "\\item 0\n",
       "\\item 0\n",
       "\\item 0\n",
       "\\item 0\n",
       "\\item 0\n",
       "\\item 0\n",
       "\\item 0\n",
       "\\item 0\n",
       "\\item 1\n",
       "\\item 0\n",
       "\\item 0\n",
       "\\item 1\n",
       "\\item 0\n",
       "\\item 0\n",
       "\\item 0\n",
       "\\item 0\n",
       "\\item 0\n",
       "\\item 0\n",
       "\\item 0\n",
       "\\item 0\n",
       "\\item 0\n",
       "\\item 0\n",
       "\\item 1\n",
       "\\item 1\n",
       "\\item 0\n",
       "\\item 1\n",
       "\\item 0\n",
       "\\item 0\n",
       "\\item 0\n",
       "\\item 0\n",
       "\\item 0\n",
       "\\item 1\n",
       "\\item 1\n",
       "\\item 0\n",
       "\\item 0\n",
       "\\item 1\n",
       "\\item 1\n",
       "\\item 0\n",
       "\\item 0\n",
       "\\item 0\n",
       "\\item 0\n",
       "\\item 0\n",
       "\\item 0\n",
       "\\item 1\n",
       "\\item 1\n",
       "\\item 0\n",
       "\\item 0\n",
       "\\item 0\n",
       "\\item 0\n",
       "\\item 0\n",
       "\\item 0\n",
       "\\item 0\n",
       "\\item 0\n",
       "\\item 0\n",
       "\\item 0\n",
       "\\item 0\n",
       "\\item 0\n",
       "\\item 1\n",
       "\\item 0\n",
       "\\item 0\n",
       "\\item 0\n",
       "\\item 1\n",
       "\\item 0\n",
       "\\item 1\n",
       "\\item 0\n",
       "\\item 0\n",
       "\\item 1\n",
       "\\item 0\n",
       "\\item 0\n",
       "\\item 0\n",
       "\\item 0\n",
       "\\item 1\n",
       "\\item 1\n",
       "\\item 0\n",
       "\\item 1\n",
       "\\item 1\n",
       "\\item 0\n",
       "\\item 0\n",
       "\\item 0\n",
       "\\item 1\n",
       "\\item 0\n",
       "\\item 1\n",
       "\\item 0\n",
       "\\item 1\n",
       "\\item 0\n",
       "\\item 1\n",
       "\\item 0\n",
       "\\item 0\n",
       "\\item 0\n",
       "\\item 1\n",
       "\\item 0\n",
       "\\item 0\n",
       "\\item 0\n",
       "\\item 0\n",
       "\\item 0\n",
       "\\item 0\n",
       "\\item 0\n",
       "\\item 0\n",
       "\\item 0\n",
       "\\item 0\n",
       "\\item 1\n",
       "\\item 0\n",
       "\\item 1\n",
       "\\item 1\n",
       "\\item 0\n",
       "\\item 0\n",
       "\\item 0\n",
       "\\item 0\n",
       "\\item 0\n",
       "\\item 0\n",
       "\\item 0\n",
       "\\item 0\n",
       "\\item 0\n",
       "\\item 0\n",
       "\\item 0\n",
       "\\item 0\n",
       "\\item 0\n",
       "\\item 0\n",
       "\\item 0\n",
       "\\item 0\n",
       "\\item 0\n",
       "\\item 0\n",
       "\\item 0\n",
       "\\item 0\n",
       "\\item 0\n",
       "\\item 0\n",
       "\\item 1\n",
       "\\item 1\n",
       "\\item 1\n",
       "\\item 1\n",
       "\\item 0\n",
       "\\end{enumerate*}\n"
      ],
      "text/markdown": [
       "1. 1\n",
       "2. 1\n",
       "3. 1\n",
       "4. 1\n",
       "5. 1\n",
       "6. 1\n",
       "7. 1\n",
       "8. 1\n",
       "9. 1\n",
       "10. 1\n",
       "11. 1\n",
       "12. 1\n",
       "13. 1\n",
       "14. 1\n",
       "15. 0\n",
       "16. 0\n",
       "17. 1\n",
       "18. 1\n",
       "19. 1\n",
       "20. 1\n",
       "21. 1\n",
       "22. 1\n",
       "23. 1\n",
       "24. 1\n",
       "25. 1\n",
       "26. 1\n",
       "27. 1\n",
       "28. 0\n",
       "29. 1\n",
       "30. 1\n",
       "31. 1\n",
       "32. 1\n",
       "33. 1\n",
       "34. 1\n",
       "35. 0\n",
       "36. 1\n",
       "37. 0\n",
       "38. 0\n",
       "39. 0\n",
       "40. 0\n",
       "41. 1\n",
       "42. 1\n",
       "43. 0\n",
       "44. 1\n",
       "45. 1\n",
       "46. 0\n",
       "47. 0\n",
       "48. 0\n",
       "49. 0\n",
       "50. 1\n",
       "51. 1\n",
       "52. 0\n",
       "53. 0\n",
       "54. 0\n",
       "55. 0\n",
       "56. 1\n",
       "57. 0\n",
       "58. 1\n",
       "59. 1\n",
       "60. 0\n",
       "61. 1\n",
       "62. 0\n",
       "63. 1\n",
       "64. 1\n",
       "65. 0\n",
       "66. 0\n",
       "67. 0\n",
       "68. 1\n",
       "69. 0\n",
       "70. 1\n",
       "71. 1\n",
       "72. 1\n",
       "73. 0\n",
       "74. 0\n",
       "75. 0\n",
       "76. 1\n",
       "77. 0\n",
       "78. 0\n",
       "79. 1\n",
       "80. 1\n",
       "81. 0\n",
       "82. 0\n",
       "83. 0\n",
       "84. 1\n",
       "85. 1\n",
       "86. 0\n",
       "87. 0\n",
       "88. 1\n",
       "89. 0\n",
       "90. 1\n",
       "91. 0\n",
       "92. 0\n",
       "93. 0\n",
       "94. 0\n",
       "95. 0\n",
       "96. 0\n",
       "97. 0\n",
       "98. 1\n",
       "99. 1\n",
       "100. 0\n",
       "101. 1\n",
       "102. 0\n",
       "103. 0\n",
       "104. 1\n",
       "105. 1\n",
       "106. 0\n",
       "107. 0\n",
       "108. 1\n",
       "109. 0\n",
       "110. 0\n",
       "111. 1\n",
       "112. 0\n",
       "113. 0\n",
       "114. 1\n",
       "115. 0\n",
       "116. 0\n",
       "117. 0\n",
       "118. 0\n",
       "119. 1\n",
       "120. 0\n",
       "121. 0\n",
       "122. 0\n",
       "123. 0\n",
       "124. 0\n",
       "125. 0\n",
       "126. 0\n",
       "127. 1\n",
       "128. 0\n",
       "129. 0\n",
       "130. 0\n",
       "131. 1\n",
       "132. 0\n",
       "133. 1\n",
       "134. 0\n",
       "135. 0\n",
       "136. 1\n",
       "137. 1\n",
       "138. 0\n",
       "139. 0\n",
       "140. 1\n",
       "141. 0\n",
       "142. 0\n",
       "143. 0\n",
       "144. 0\n",
       "145. 0\n",
       "146. 1\n",
       "147. 1\n",
       "148. 1\n",
       "149. 0\n",
       "150. 1\n",
       "151. 0\n",
       "152. 0\n",
       "153. 0\n",
       "154. 1\n",
       "155. 0\n",
       "156. 0\n",
       "157. 1\n",
       "158. 0\n",
       "159. 1\n",
       "160. 1\n",
       "161. 0\n",
       "162. 0\n",
       "163. 1\n",
       "164. 0\n",
       "165. 0\n",
       "166. 1\n",
       "167. 0\n",
       "168. 1\n",
       "169. 1\n",
       "170. 0\n",
       "171. 0\n",
       "172. 1\n",
       "173. 1\n",
       "174. 0\n",
       "175. 1\n",
       "176. 0\n",
       "177. 0\n",
       "178. 0\n",
       "179. 0\n",
       "180. 0\n",
       "181. 1\n",
       "182. 0\n",
       "183. 1\n",
       "184. 1\n",
       "185. 0\n",
       "186. 1\n",
       "187. 0\n",
       "188. 0\n",
       "189. 0\n",
       "190. 0\n",
       "191. 1\n",
       "192. 0\n",
       "193. 0\n",
       "194. 0\n",
       "195. 0\n",
       "196. 1\n",
       "197. 0\n",
       "198. 1\n",
       "199. 1\n",
       "200. 1\n",
       "201. ...\n",
       "202. 1\n",
       "203. 0\n",
       "204. 1\n",
       "205. 0\n",
       "206. 0\n",
       "207. 0\n",
       "208. 0\n",
       "209. 1\n",
       "210. 0\n",
       "211. 0\n",
       "212. 0\n",
       "213. 1\n",
       "214. 0\n",
       "215. 0\n",
       "216. 0\n",
       "217. 0\n",
       "218. 0\n",
       "219. 1\n",
       "220. 0\n",
       "221. 0\n",
       "222. 0\n",
       "223. 0\n",
       "224. 0\n",
       "225. 1\n",
       "226. 1\n",
       "227. 0\n",
       "228. 0\n",
       "229. 0\n",
       "230. 0\n",
       "231. 0\n",
       "232. 0\n",
       "233. 0\n",
       "234. 0\n",
       "235. 0\n",
       "236. 0\n",
       "237. 1\n",
       "238. 1\n",
       "239. 1\n",
       "240. 1\n",
       "241. 0\n",
       "242. 1\n",
       "243. 1\n",
       "244. 0\n",
       "245. 0\n",
       "246. 0\n",
       "247. 0\n",
       "248. 1\n",
       "249. 0\n",
       "250. 0\n",
       "251. 0\n",
       "252. 1\n",
       "253. 0\n",
       "254. 0\n",
       "255. 0\n",
       "256. 1\n",
       "257. 0\n",
       "258. 0\n",
       "259. 1\n",
       "260. 1\n",
       "261. 0\n",
       "262. 0\n",
       "263. 0\n",
       "264. 0\n",
       "265. 0\n",
       "266. 0\n",
       "267. 1\n",
       "268. 0\n",
       "269. 0\n",
       "270. 0\n",
       "271. 0\n",
       "272. 0\n",
       "273. 0\n",
       "274. 0\n",
       "275. 0\n",
       "276. 0\n",
       "277. 0\n",
       "278. 0\n",
       "279. 1\n",
       "280. 0\n",
       "281. 0\n",
       "282. 1\n",
       "283. 0\n",
       "284. 0\n",
       "285. 0\n",
       "286. 0\n",
       "287. 0\n",
       "288. 0\n",
       "289. 0\n",
       "290. 0\n",
       "291. 0\n",
       "292. 0\n",
       "293. 1\n",
       "294. 1\n",
       "295. 0\n",
       "296. 1\n",
       "297. 0\n",
       "298. 0\n",
       "299. 0\n",
       "300. 0\n",
       "301. 0\n",
       "302. 1\n",
       "303. 1\n",
       "304. 0\n",
       "305. 0\n",
       "306. 1\n",
       "307. 1\n",
       "308. 0\n",
       "309. 0\n",
       "310. 0\n",
       "311. 0\n",
       "312. 0\n",
       "313. 0\n",
       "314. 1\n",
       "315. 1\n",
       "316. 0\n",
       "317. 0\n",
       "318. 0\n",
       "319. 0\n",
       "320. 0\n",
       "321. 0\n",
       "322. 0\n",
       "323. 0\n",
       "324. 0\n",
       "325. 0\n",
       "326. 0\n",
       "327. 0\n",
       "328. 1\n",
       "329. 0\n",
       "330. 0\n",
       "331. 0\n",
       "332. 1\n",
       "333. 0\n",
       "334. 1\n",
       "335. 0\n",
       "336. 0\n",
       "337. 1\n",
       "338. 0\n",
       "339. 0\n",
       "340. 0\n",
       "341. 0\n",
       "342. 1\n",
       "343. 1\n",
       "344. 0\n",
       "345. 1\n",
       "346. 1\n",
       "347. 0\n",
       "348. 0\n",
       "349. 0\n",
       "350. 1\n",
       "351. 0\n",
       "352. 1\n",
       "353. 0\n",
       "354. 1\n",
       "355. 0\n",
       "356. 1\n",
       "357. 0\n",
       "358. 0\n",
       "359. 0\n",
       "360. 1\n",
       "361. 0\n",
       "362. 0\n",
       "363. 0\n",
       "364. 0\n",
       "365. 0\n",
       "366. 0\n",
       "367. 0\n",
       "368. 0\n",
       "369. 0\n",
       "370. 0\n",
       "371. 1\n",
       "372. 0\n",
       "373. 1\n",
       "374. 1\n",
       "375. 0\n",
       "376. 0\n",
       "377. 0\n",
       "378. 0\n",
       "379. 0\n",
       "380. 0\n",
       "381. 0\n",
       "382. 0\n",
       "383. 0\n",
       "384. 0\n",
       "385. 0\n",
       "386. 0\n",
       "387. 0\n",
       "388. 0\n",
       "389. 0\n",
       "390. 0\n",
       "391. 0\n",
       "392. 0\n",
       "393. 0\n",
       "394. 0\n",
       "395. 0\n",
       "396. 0\n",
       "397. 1\n",
       "398. 1\n",
       "399. 1\n",
       "400. 1\n",
       "401. 0\n",
       "\n",
       "\n"
      ],
      "text/plain": [
       "  [1] 1 1 1 1 1 1 1 1 1 1 1 1 1 1 0 0 1 1 1 1 1 1 1 1 1 1 1 0 1 1 1 1 1 1 0 1 0\n",
       " [38] 0 0 0 1 1 0 1 1 0 0 0 0 1 1 0 0 0 0 1 0 1 1 0 1 0 1 1 0 0 0 1 0 1 1 1 0 0\n",
       " [75] 0 1 0 0 1 1 0 0 0 1 1 0 0 1 0 1 0 0 0 0 0 0 0 1 1 0 1 0 0 1 1 0 0 1 0 0 1\n",
       "[112] 0 0 1 0 0 0 0 1 0 0 0 0 0 0 0 1 0 0 0 1 0 1 0 0 1 1 0 0 1 0 0 0 0 0 1 1 1\n",
       "[149] 0 1 0 0 0 1 0 0 1 0 1 1 0 0 1 0 0 1 0 1 1 0 0 1 1 0 1 0 0 0 0 0 1 0 1 1 0\n",
       "[186] 1 0 0 0 0 1 0 0 0 0 1 0 1 1 1 1 1 1 1 1 1 1 1 1 0 0 0 0 0 0 1 0 1 0 0 0 1\n",
       "[223] 0 1 1 0 0 0 0 0 0 0 0 0 0 0 0 1 0 0 1 0 0 0 0 0 0 0 0 0 0 0 1 0 0 0 1 0 1\n",
       "[260] 0 0 0 0 1 0 0 0 1 0 0 0 0 0 1 0 0 0 0 0 1 1 0 0 0 0 0 0 0 0 0 0 1 1 1 1 0\n",
       "[297] 1 1 0 0 0 0 1 0 0 0 1 0 0 0 1 0 0 1 1 0 0 0 0 0 0 1 0 0 0 0 0 0 0 0 0 0 0\n",
       "[334] 1 0 0 1 0 0 0 0 0 0 0 0 0 0 1 1 0 1 0 0 0 0 0 1 1 0 0 1 1 0 0 0 0 0 0 1 1\n",
       "[371] 0 0 0 0 0 0 0 0 0 0 0 0 1 0 0 0 1 0 1 0 0 1 0 0 0 0 1 1 0 1 1 0 0 0 1 0 1\n",
       "[408] 0 1 0 1 0 0 0 1 0 0 0 0 0 0 0 0 0 0 1 0 1 1 0 0 0 0 0 0 0 0 0 0 0 0 0 0 0\n",
       "[445] 0 0 0 0 0 0 0 1 1 1 1 0"
      ]
     },
     "metadata": {},
     "output_type": "display_data"
    },
    {
     "data": {
      "text/html": [
       "<table class=\"dataframe\">\n",
       "<caption>A matrix: 6 × 31 of type dbl</caption>\n",
       "<thead>\n",
       "\t<tr><th></th><th scope=col>(Intercept)</th><th scope=col>radius_mean</th><th scope=col>texture_mean</th><th scope=col>perimeter_mean</th><th scope=col>area_mean</th><th scope=col>smoothness_mean</th><th scope=col>compactness_mean</th><th scope=col>concavity_mean</th><th scope=col>concave.points_mean</th><th scope=col>symmetry_mean</th><th scope=col>...</th><th scope=col>radius_worst</th><th scope=col>texture_worst</th><th scope=col>perimeter_worst</th><th scope=col>area_worst</th><th scope=col>smoothness_worst</th><th scope=col>compactness_worst</th><th scope=col>concavity_worst</th><th scope=col>concave.points_worst</th><th scope=col>symmetry_worst</th><th scope=col>fractal_dimension_worst</th></tr>\n",
       "</thead>\n",
       "<tbody>\n",
       "\t<tr><th scope=row>5</th><td>1</td><td> 1.7985771</td><td>-1.1235141</td><td> 1.8305467</td><td> 1.8751308</td><td> 0.29654256</td><td> 0.5713023</td><td> 1.4746835</td><td> 1.4849624</td><td>-0.00688212</td><td>...</td><td> 1.3370530</td><td>-1.4485038</td><td> 1.3831674</td><td> 1.2647049</td><td> 0.23775056</td><td>-0.28485421</td><td> 0.6772680</td><td> 0.7611205</td><td>-0.85087420</td><td>-0.37629086</td></tr>\n",
       "\t<tr><th scope=row>7</th><td>1</td><td> 1.2117709</td><td> 0.1810588</td><td> 1.1827274</td><td> 1.1350887</td><td>-0.10985875</td><td> 0.1185880</td><td> 0.3582780</td><td> 0.6898713</td><td>-0.06226294</td><td>...</td><td> 1.4083832</td><td> 0.3491772</td><td> 1.4133909</td><td> 1.3201282</td><td> 0.53828254</td><td> 0.06020879</td><td> 0.5705010</td><td> 1.2291392</td><td> 0.26733742</td><td> 0.01655069</td></tr>\n",
       "\t<tr><th scope=row>10</th><td>1</td><td>-0.4537233</td><td> 1.1201662</td><td>-0.3064209</td><td>-0.4892606</td><td> 1.60820815</td><td> 2.6028100</td><td> 1.8581616</td><td> 0.9898017</td><td> 0.80906200</td><td>...</td><td>-0.2259171</td><td> 2.4789140</td><td>-0.2655216</td><td>-0.2792812</td><td> 2.35473313</td><td> 5.31093928</td><td> 4.1620239</td><td> 1.6529476</td><td> 2.35178625</td><td> 7.06606380</td></tr>\n",
       "\t<tr><th scope=row>11</th><td>1</td><td> 0.5703111</td><td> 0.9351204</td><td> 0.4763955</td><td> 0.4376638</td><td>-1.01082250</td><td>-0.6862162</td><td>-0.6849656</td><td>-0.3799592</td><td>-1.04434953</td><td>...</td><td> 0.6342410</td><td> 1.3666091</td><td> 0.5248215</td><td> 0.5048692</td><td>-0.61522989</td><td>-0.61220485</td><td>-0.5787271</td><td>-0.1954976</td><td> 0.08336841</td><td> 0.06437487</td></tr>\n",
       "\t<tr><th scope=row>13</th><td>1</td><td> 1.4764089</td><td> 1.2959597</td><td> 1.7177007</td><td> 1.3740906</td><td> 0.08868298</td><td> 2.7207440</td><td> 1.5859314</td><td> 1.6817671</td><td> 2.16404612</td><td>...</td><td> 1.0055775</td><td> 0.7221265</td><td> 1.3680557</td><td> 0.8302577</td><td>-1.25165053</td><td> 0.93073844</td><td> 0.4988287</td><td> 0.9775982</td><td> 0.44810696</td><td> 1.07665353</td></tr>\n",
       "\t<tr><th scope=row>21</th><td>1</td><td>-0.2753802</td><td>-0.8066232</td><td>-0.2370415</td><td>-0.3622728</td><td> 0.81260771</td><td> 0.4609770</td><td>-0.5188790</td><td>-0.4358518</td><td> 0.57646254</td><td>...</td><td>-0.3496959</td><td>-0.8236502</td><td>-0.3126702</td><td>-0.4239181</td><td>-0.03626388</td><td> 0.19141145</td><td>-0.3656874</td><td>-0.6058906</td><td> 0.46090481</td><td>-0.08877640</td></tr>\n",
       "</tbody>\n",
       "</table>\n"
      ],
      "text/latex": [
       "A matrix: 6 × 31 of type dbl\n",
       "\\begin{tabular}{r|lllllllllllllllllllll}\n",
       "  & (Intercept) & radius\\_mean & texture\\_mean & perimeter\\_mean & area\\_mean & smoothness\\_mean & compactness\\_mean & concavity\\_mean & concave.points\\_mean & symmetry\\_mean & ... & radius\\_worst & texture\\_worst & perimeter\\_worst & area\\_worst & smoothness\\_worst & compactness\\_worst & concavity\\_worst & concave.points\\_worst & symmetry\\_worst & fractal\\_dimension\\_worst\\\\\n",
       "\\hline\n",
       "\t5 & 1 &  1.7985771 & -1.1235141 &  1.8305467 &  1.8751308 &  0.29654256 &  0.5713023 &  1.4746835 &  1.4849624 & -0.00688212 & ... &  1.3370530 & -1.4485038 &  1.3831674 &  1.2647049 &  0.23775056 & -0.28485421 &  0.6772680 &  0.7611205 & -0.85087420 & -0.37629086\\\\\n",
       "\t7 & 1 &  1.2117709 &  0.1810588 &  1.1827274 &  1.1350887 & -0.10985875 &  0.1185880 &  0.3582780 &  0.6898713 & -0.06226294 & ... &  1.4083832 &  0.3491772 &  1.4133909 &  1.3201282 &  0.53828254 &  0.06020879 &  0.5705010 &  1.2291392 &  0.26733742 &  0.01655069\\\\\n",
       "\t10 & 1 & -0.4537233 &  1.1201662 & -0.3064209 & -0.4892606 &  1.60820815 &  2.6028100 &  1.8581616 &  0.9898017 &  0.80906200 & ... & -0.2259171 &  2.4789140 & -0.2655216 & -0.2792812 &  2.35473313 &  5.31093928 &  4.1620239 &  1.6529476 &  2.35178625 &  7.06606380\\\\\n",
       "\t11 & 1 &  0.5703111 &  0.9351204 &  0.4763955 &  0.4376638 & -1.01082250 & -0.6862162 & -0.6849656 & -0.3799592 & -1.04434953 & ... &  0.6342410 &  1.3666091 &  0.5248215 &  0.5048692 & -0.61522989 & -0.61220485 & -0.5787271 & -0.1954976 &  0.08336841 &  0.06437487\\\\\n",
       "\t13 & 1 &  1.4764089 &  1.2959597 &  1.7177007 &  1.3740906 &  0.08868298 &  2.7207440 &  1.5859314 &  1.6817671 &  2.16404612 & ... &  1.0055775 &  0.7221265 &  1.3680557 &  0.8302577 & -1.25165053 &  0.93073844 &  0.4988287 &  0.9775982 &  0.44810696 &  1.07665353\\\\\n",
       "\t21 & 1 & -0.2753802 & -0.8066232 & -0.2370415 & -0.3622728 &  0.81260771 &  0.4609770 & -0.5188790 & -0.4358518 &  0.57646254 & ... & -0.3496959 & -0.8236502 & -0.3126702 & -0.4239181 & -0.03626388 &  0.19141145 & -0.3656874 & -0.6058906 &  0.46090481 & -0.08877640\\\\\n",
       "\\end{tabular}\n"
      ],
      "text/markdown": [
       "\n",
       "A matrix: 6 × 31 of type dbl\n",
       "\n",
       "| <!--/--> | (Intercept) | radius_mean | texture_mean | perimeter_mean | area_mean | smoothness_mean | compactness_mean | concavity_mean | concave.points_mean | symmetry_mean | ... | radius_worst | texture_worst | perimeter_worst | area_worst | smoothness_worst | compactness_worst | concavity_worst | concave.points_worst | symmetry_worst | fractal_dimension_worst |\n",
       "|---|---|---|---|---|---|---|---|---|---|---|---|---|---|---|---|---|---|---|---|---|---|\n",
       "| 5 | 1 |  1.7985771 | -1.1235141 |  1.8305467 |  1.8751308 |  0.29654256 |  0.5713023 |  1.4746835 |  1.4849624 | -0.00688212 | ... |  1.3370530 | -1.4485038 |  1.3831674 |  1.2647049 |  0.23775056 | -0.28485421 |  0.6772680 |  0.7611205 | -0.85087420 | -0.37629086 |\n",
       "| 7 | 1 |  1.2117709 |  0.1810588 |  1.1827274 |  1.1350887 | -0.10985875 |  0.1185880 |  0.3582780 |  0.6898713 | -0.06226294 | ... |  1.4083832 |  0.3491772 |  1.4133909 |  1.3201282 |  0.53828254 |  0.06020879 |  0.5705010 |  1.2291392 |  0.26733742 |  0.01655069 |\n",
       "| 10 | 1 | -0.4537233 |  1.1201662 | -0.3064209 | -0.4892606 |  1.60820815 |  2.6028100 |  1.8581616 |  0.9898017 |  0.80906200 | ... | -0.2259171 |  2.4789140 | -0.2655216 | -0.2792812 |  2.35473313 |  5.31093928 |  4.1620239 |  1.6529476 |  2.35178625 |  7.06606380 |\n",
       "| 11 | 1 |  0.5703111 |  0.9351204 |  0.4763955 |  0.4376638 | -1.01082250 | -0.6862162 | -0.6849656 | -0.3799592 | -1.04434953 | ... |  0.6342410 |  1.3666091 |  0.5248215 |  0.5048692 | -0.61522989 | -0.61220485 | -0.5787271 | -0.1954976 |  0.08336841 |  0.06437487 |\n",
       "| 13 | 1 |  1.4764089 |  1.2959597 |  1.7177007 |  1.3740906 |  0.08868298 |  2.7207440 |  1.5859314 |  1.6817671 |  2.16404612 | ... |  1.0055775 |  0.7221265 |  1.3680557 |  0.8302577 | -1.25165053 |  0.93073844 |  0.4988287 |  0.9775982 |  0.44810696 |  1.07665353 |\n",
       "| 21 | 1 | -0.2753802 | -0.8066232 | -0.2370415 | -0.3622728 |  0.81260771 |  0.4609770 | -0.5188790 | -0.4358518 |  0.57646254 | ... | -0.3496959 | -0.8236502 | -0.3126702 | -0.4239181 | -0.03626388 |  0.19141145 | -0.3656874 | -0.6058906 |  0.46090481 | -0.08877640 |\n",
       "\n"
      ],
      "text/plain": [
       "   (Intercept) radius_mean texture_mean perimeter_mean area_mean \n",
       "5  1            1.7985771  -1.1235141    1.8305467      1.8751308\n",
       "7  1            1.2117709   0.1810588    1.1827274      1.1350887\n",
       "10 1           -0.4537233   1.1201662   -0.3064209     -0.4892606\n",
       "11 1            0.5703111   0.9351204    0.4763955      0.4376638\n",
       "13 1            1.4764089   1.2959597    1.7177007      1.3740906\n",
       "21 1           -0.2753802  -0.8066232   -0.2370415     -0.3622728\n",
       "   smoothness_mean compactness_mean concavity_mean concave.points_mean\n",
       "5   0.29654256      0.5713023        1.4746835      1.4849624         \n",
       "7  -0.10985875      0.1185880        0.3582780      0.6898713         \n",
       "10  1.60820815      2.6028100        1.8581616      0.9898017         \n",
       "11 -1.01082250     -0.6862162       -0.6849656     -0.3799592         \n",
       "13  0.08868298      2.7207440        1.5859314      1.6817671         \n",
       "21  0.81260771      0.4609770       -0.5188790     -0.4358518         \n",
       "   symmetry_mean ... radius_worst texture_worst perimeter_worst area_worst\n",
       "5  -0.00688212   ...  1.3370530   -1.4485038     1.3831674       1.2647049\n",
       "7  -0.06226294   ...  1.4083832    0.3491772     1.4133909       1.3201282\n",
       "10  0.80906200   ... -0.2259171    2.4789140    -0.2655216      -0.2792812\n",
       "11 -1.04434953   ...  0.6342410    1.3666091     0.5248215       0.5048692\n",
       "13  2.16404612   ...  1.0055775    0.7221265     1.3680557       0.8302577\n",
       "21  0.57646254   ... -0.3496959   -0.8236502    -0.3126702      -0.4239181\n",
       "   smoothness_worst compactness_worst concavity_worst concave.points_worst\n",
       "5   0.23775056      -0.28485421        0.6772680       0.7611205          \n",
       "7   0.53828254       0.06020879        0.5705010       1.2291392          \n",
       "10  2.35473313       5.31093928        4.1620239       1.6529476          \n",
       "11 -0.61522989      -0.61220485       -0.5787271      -0.1954976          \n",
       "13 -1.25165053       0.93073844        0.4988287       0.9775982          \n",
       "21 -0.03626388       0.19141145       -0.3656874      -0.6058906          \n",
       "   symmetry_worst fractal_dimension_worst\n",
       "5  -0.85087420    -0.37629086            \n",
       "7   0.26733742     0.01655069            \n",
       "10  2.35178625     7.06606380            \n",
       "11  0.08336841     0.06437487            \n",
       "13  0.44810696     1.07665353            \n",
       "21  0.46090481    -0.08877640            "
      ]
     },
     "metadata": {},
     "output_type": "display_data"
    },
    {
     "data": {
      "text/html": [
       "<style>\n",
       ".list-inline {list-style: none; margin:0; padding: 0}\n",
       ".list-inline>li {display: inline-block}\n",
       ".list-inline>li:not(:last-child)::after {content: \"\\00b7\"; padding: 0 .5ex}\n",
       "</style>\n",
       "<ol class=list-inline><li>1</li><li>1</li><li>1</li><li>1</li><li>1</li><li>0</li><li>1</li><li>1</li><li>1</li><li>1</li><li>1</li><li>1</li><li>0</li><li>1</li><li>0</li><li>1</li><li>0</li><li>0</li><li>0</li><li>0</li><li>1</li><li>1</li><li>0</li><li>1</li><li>1</li><li>1</li><li>1</li><li>0</li><li>0</li><li>0</li><li>0</li><li>1</li><li>1</li><li>0</li><li>1</li><li>1</li><li>0</li><li>1</li><li>1</li><li>1</li><li>1</li><li>1</li><li>1</li><li>0</li><li>1</li><li>1</li><li>1</li><li>0</li><li>0</li><li>1</li><li>0</li><li>1</li><li>0</li><li>0</li><li>0</li><li>1</li><li>1</li><li>0</li><li>1</li><li>0</li><li>0</li><li>1</li><li>0</li><li>0</li><li>0</li><li>1</li><li>1</li><li>0</li><li>1</li><li>1</li><li>0</li><li>0</li><li>1</li><li>0</li><li>1</li><li>0</li><li>0</li><li>0</li><li>0</li><li>0</li><li>1</li><li>0</li><li>0</li><li>0</li><li>1</li><li>0</li><li>1</li><li>0</li><li>0</li><li>0</li><li>0</li><li>0</li><li>1</li><li>0</li><li>0</li><li>0</li><li>0</li><li>0</li><li>0</li><li>0</li><li>0</li><li>0</li><li>0</li><li>0</li><li>0</li><li>0</li><li>1</li><li>0</li><li>0</li><li>0</li><li>0</li><li>1</li><li>1</li></ol>\n"
      ],
      "text/latex": [
       "\\begin{enumerate*}\n",
       "\\item 1\n",
       "\\item 1\n",
       "\\item 1\n",
       "\\item 1\n",
       "\\item 1\n",
       "\\item 0\n",
       "\\item 1\n",
       "\\item 1\n",
       "\\item 1\n",
       "\\item 1\n",
       "\\item 1\n",
       "\\item 1\n",
       "\\item 0\n",
       "\\item 1\n",
       "\\item 0\n",
       "\\item 1\n",
       "\\item 0\n",
       "\\item 0\n",
       "\\item 0\n",
       "\\item 0\n",
       "\\item 1\n",
       "\\item 1\n",
       "\\item 0\n",
       "\\item 1\n",
       "\\item 1\n",
       "\\item 1\n",
       "\\item 1\n",
       "\\item 0\n",
       "\\item 0\n",
       "\\item 0\n",
       "\\item 0\n",
       "\\item 1\n",
       "\\item 1\n",
       "\\item 0\n",
       "\\item 1\n",
       "\\item 1\n",
       "\\item 0\n",
       "\\item 1\n",
       "\\item 1\n",
       "\\item 1\n",
       "\\item 1\n",
       "\\item 1\n",
       "\\item 1\n",
       "\\item 0\n",
       "\\item 1\n",
       "\\item 1\n",
       "\\item 1\n",
       "\\item 0\n",
       "\\item 0\n",
       "\\item 1\n",
       "\\item 0\n",
       "\\item 1\n",
       "\\item 0\n",
       "\\item 0\n",
       "\\item 0\n",
       "\\item 1\n",
       "\\item 1\n",
       "\\item 0\n",
       "\\item 1\n",
       "\\item 0\n",
       "\\item 0\n",
       "\\item 1\n",
       "\\item 0\n",
       "\\item 0\n",
       "\\item 0\n",
       "\\item 1\n",
       "\\item 1\n",
       "\\item 0\n",
       "\\item 1\n",
       "\\item 1\n",
       "\\item 0\n",
       "\\item 0\n",
       "\\item 1\n",
       "\\item 0\n",
       "\\item 1\n",
       "\\item 0\n",
       "\\item 0\n",
       "\\item 0\n",
       "\\item 0\n",
       "\\item 0\n",
       "\\item 1\n",
       "\\item 0\n",
       "\\item 0\n",
       "\\item 0\n",
       "\\item 1\n",
       "\\item 0\n",
       "\\item 1\n",
       "\\item 0\n",
       "\\item 0\n",
       "\\item 0\n",
       "\\item 0\n",
       "\\item 0\n",
       "\\item 1\n",
       "\\item 0\n",
       "\\item 0\n",
       "\\item 0\n",
       "\\item 0\n",
       "\\item 0\n",
       "\\item 0\n",
       "\\item 0\n",
       "\\item 0\n",
       "\\item 0\n",
       "\\item 0\n",
       "\\item 0\n",
       "\\item 0\n",
       "\\item 0\n",
       "\\item 1\n",
       "\\item 0\n",
       "\\item 0\n",
       "\\item 0\n",
       "\\item 0\n",
       "\\item 1\n",
       "\\item 1\n",
       "\\end{enumerate*}\n"
      ],
      "text/markdown": [
       "1. 1\n",
       "2. 1\n",
       "3. 1\n",
       "4. 1\n",
       "5. 1\n",
       "6. 0\n",
       "7. 1\n",
       "8. 1\n",
       "9. 1\n",
       "10. 1\n",
       "11. 1\n",
       "12. 1\n",
       "13. 0\n",
       "14. 1\n",
       "15. 0\n",
       "16. 1\n",
       "17. 0\n",
       "18. 0\n",
       "19. 0\n",
       "20. 0\n",
       "21. 1\n",
       "22. 1\n",
       "23. 0\n",
       "24. 1\n",
       "25. 1\n",
       "26. 1\n",
       "27. 1\n",
       "28. 0\n",
       "29. 0\n",
       "30. 0\n",
       "31. 0\n",
       "32. 1\n",
       "33. 1\n",
       "34. 0\n",
       "35. 1\n",
       "36. 1\n",
       "37. 0\n",
       "38. 1\n",
       "39. 1\n",
       "40. 1\n",
       "41. 1\n",
       "42. 1\n",
       "43. 1\n",
       "44. 0\n",
       "45. 1\n",
       "46. 1\n",
       "47. 1\n",
       "48. 0\n",
       "49. 0\n",
       "50. 1\n",
       "51. 0\n",
       "52. 1\n",
       "53. 0\n",
       "54. 0\n",
       "55. 0\n",
       "56. 1\n",
       "57. 1\n",
       "58. 0\n",
       "59. 1\n",
       "60. 0\n",
       "61. 0\n",
       "62. 1\n",
       "63. 0\n",
       "64. 0\n",
       "65. 0\n",
       "66. 1\n",
       "67. 1\n",
       "68. 0\n",
       "69. 1\n",
       "70. 1\n",
       "71. 0\n",
       "72. 0\n",
       "73. 1\n",
       "74. 0\n",
       "75. 1\n",
       "76. 0\n",
       "77. 0\n",
       "78. 0\n",
       "79. 0\n",
       "80. 0\n",
       "81. 1\n",
       "82. 0\n",
       "83. 0\n",
       "84. 0\n",
       "85. 1\n",
       "86. 0\n",
       "87. 1\n",
       "88. 0\n",
       "89. 0\n",
       "90. 0\n",
       "91. 0\n",
       "92. 0\n",
       "93. 1\n",
       "94. 0\n",
       "95. 0\n",
       "96. 0\n",
       "97. 0\n",
       "98. 0\n",
       "99. 0\n",
       "100. 0\n",
       "101. 0\n",
       "102. 0\n",
       "103. 0\n",
       "104. 0\n",
       "105. 0\n",
       "106. 0\n",
       "107. 1\n",
       "108. 0\n",
       "109. 0\n",
       "110. 0\n",
       "111. 0\n",
       "112. 1\n",
       "113. 1\n",
       "\n",
       "\n"
      ],
      "text/plain": [
       "  [1] 1 1 1 1 1 0 1 1 1 1 1 1 0 1 0 1 0 0 0 0 1 1 0 1 1 1 1 0 0 0 0 1 1 0 1 1 0\n",
       " [38] 1 1 1 1 1 1 0 1 1 1 0 0 1 0 1 0 0 0 1 1 0 1 0 0 1 0 0 0 1 1 0 1 1 0 0 1 0\n",
       " [75] 1 0 0 0 0 0 1 0 0 0 1 0 1 0 0 0 0 0 1 0 0 0 0 0 0 0 0 0 0 0 0 0 1 0 0 0 0\n",
       "[112] 1 1"
      ]
     },
     "metadata": {},
     "output_type": "display_data"
    }
   ],
   "source": [
    "# check number of columns\n",
    "ncol(train)\n",
    "\n",
    "# split predictors and response variables for training set\n",
    "#train_x <- train[,2:31]\n",
    "train_x <- model.matrix(diagnosis~.,data=train) #transform variables into numeric...\n",
    "train_y <- train[,1]\n",
    "\n",
    "# split predictors and response variables for test set\n",
    "test_x <- model.matrix(diagnosis~.,data=test)\n",
    "test_y <- test[,1]\n",
    "\n",
    "# view datasets post preproceessing\n",
    "head(train_x)\n",
    "train_y\n",
    "head(test_x)\n",
    "test_y"
   ]
  },
  {
   "cell_type": "markdown",
   "id": "8a3da733-ef84-4fc4-9378-c880f4ba60c0",
   "metadata": {},
   "source": [
    "### Neural network model #1"
   ]
  },
  {
   "cell_type": "code",
   "execution_count": 31,
   "id": "7eb6ac2e-36c4-4fc1-9a93-c7c4981fb49a",
   "metadata": {},
   "outputs": [
    {
     "name": "stderr",
     "output_type": "stream",
     "text": [
      "Loaded Tensorflow version 2.8.0\n",
      "\n"
     ]
    }
   ],
   "source": [
    "# create model 1\n",
    "modnn_1 <- keras_model_sequential() %>%\n",
    "    layer_dense(units = 5, activation = 'sigmoid', input_shape = ncol(train)) %>%\n",
    "    layer_dense(units = 1, activation = 'sigmoid')"
   ]
  },
  {
   "cell_type": "code",
   "execution_count": 32,
   "id": "9e7fddbc-5161-41c3-b02d-18cca1a2fbfb",
   "metadata": {},
   "outputs": [
    {
     "name": "stdout",
     "output_type": "stream",
     "text": [
      "Model: \"sequential\"\n",
      "________________________________________________________________________________\n",
      " Layer (type)                       Output Shape                    Param #     \n",
      "================================================================================\n",
      " dense_1 (Dense)                    (None, 5)                       160         \n",
      " dense (Dense)                      (None, 1)                       6           \n",
      "================================================================================\n",
      "Total params: 166\n",
      "Trainable params: 166\n",
      "Non-trainable params: 0\n",
      "________________________________________________________________________________\n"
     ]
    }
   ],
   "source": [
    "# compile model 1\n",
    "modnn_1 %>% compile(loss=\"mse\", optimizer=optimizer_rmsprop(), metrics = list(\"mean_absolute_error\"))\n",
    "\n",
    "# check it to make sure it is valid...\n",
    "summary(modnn_1)"
   ]
  },
  {
   "cell_type": "code",
   "execution_count": 33,
   "id": "050dee67-5408-45fd-a421-ce2442bee294",
   "metadata": {},
   "outputs": [
    {
     "data": {
      "image/png": "[encoded data removed]",
      "text/plain": [
       "plot without title"
      ]
     },
     "metadata": {
      "image/png": {
       "height": 420,
       "width": 420
      }
     },
     "output_type": "display_data"
    }
   ],
   "source": [
    "# fit model 1\n",
    "history <- modnn_1 %>% fit(train_x, train_y, epochs=10, batch_size=32, validation_split = 0.2)\n",
    "\n",
    "# plot performance\n",
    "plot(history)\n"
   ]
  },
  {
   "cell_type": "code",
   "execution_count": 34,
   "id": "403f5fcd-5518-40f6-a492-6135db6a1860",
   "metadata": {},
   "outputs": [
    {
     "data": {
      "text/html": [
       "<style>\n",
       ".dl-inline {width: auto; margin:0; padding: 0}\n",
       ".dl-inline>dt, .dl-inline>dd {float: none; width: auto; display: inline-block}\n",
       ".dl-inline>dt::after {content: \":\\0020\"; padding-right: .5ex}\n",
       ".dl-inline>dt:not(:first-of-type) {padding-left: .5ex}\n",
       "</style><dl class=dl-inline><dt>loss</dt><dd>0.117286957800388</dd><dt>mean_absolute_error</dt><dd>0.329663187265396</dd></dl>\n"
      ],
      "text/latex": [
       "\\begin{description*}\n",
       "\\item[loss] 0.117286957800388\n",
       "\\item[mean\\textbackslash{}\\_absolute\\textbackslash{}\\_error] 0.329663187265396\n",
       "\\end{description*}\n"
      ],
      "text/markdown": [
       "loss\n",
       ":   0.117286957800388mean_absolute_error\n",
       ":   0.329663187265396\n",
       "\n"
      ],
      "text/plain": [
       "               loss mean_absolute_error \n",
       "          0.1172870           0.3296632 "
      ]
     },
     "metadata": {},
     "output_type": "display_data"
    }
   ],
   "source": [
    "# check performance\n",
    "modnn_1 %>% evaluate(test_x, test_y, verbose = 0)"
   ]
  },
  {
   "cell_type": "code",
   "execution_count": 35,
   "id": "2c1558eb-56f6-45be-a6ec-91f0999f7bf8",
   "metadata": {},
   "outputs": [],
   "source": [
    "# helper function to calcultae how good we are doing...\n",
    "get_class<-function(P){\n",
    "    C <- vector(mode='numeric',length=dim(P)[1]);\n",
    "    b <- 1/dim(P)[1]; #cuttoff point for class models\n",
    "    for(i in 1:dim(P)[1]){  #for each row\n",
    "        C[i] <- which.max(P[i,])-1; #take the maximum estimate of the classes\n",
    "    }\n",
    "    C\n",
    "}\n",
    "\n",
    "# helper function for checking accuracy\n",
    "get_accuracy<-function(T,P){\n",
    "    S <- vector(mode='numeric',length=length(T));\n",
    "    for(i in 1:length(T)){\n",
    "        if(T[i]==1 && P[i]==1){ S[i] <- 1; }\n",
    "    }\n",
    "    n <- sum(S)/sum(T); #proportion of true correct\n",
    "    m <- sum(S)/sum(P); #proportion of guesses correct\n",
    "    2*(n*m)/(n+m)       #harmonic mean (F1 accuracy measure)\n",
    "}\n"
   ]
  },
  {
   "cell_type": "code",
   "execution_count": 36,
   "id": "87f8b4dc-f81d-4cb8-9247-a2bbeaf15020",
   "metadata": {},
   "outputs": [
    {
     "data": {
      "text/html": [
       "0.903225806451613"
      ],
      "text/latex": [
       "0.903225806451613"
      ],
      "text/markdown": [
       "0.903225806451613"
      ],
      "text/plain": [
       "[1] 0.9032258"
      ]
     },
     "metadata": {},
     "output_type": "display_data"
    }
   ],
   "source": [
    "# predicted values\n",
    "P <- round(predict(modnn_1,test_x))\n",
    "\n",
    "# check accuracy\n",
    "get_accuracy(test_y,P)"
   ]
  },
  {
   "cell_type": "markdown",
   "id": "53ebce30-cfef-42dd-b3f7-7b729ca2548a",
   "metadata": {},
   "source": [
    "Above is our first neural network model consisting of two layers using sigmoid an activation function. The first layer is constructed with 5 neuron units and the second is constructed with 1 neuron unit as an output. 80% of the dataset is allocated for the training set and 20% is allocated for the test set. We then sliced between the predictor columns and the response column for our training and test sets. Following that, the training set is used to fit our model and model is then tested against the unseen test data. When fitting our model with the train data, we set the epochs to 10, use the default batch size of 32, and used 20% of our training data for validation. The results showed that our model scores around 0.1 for the loss function and around 0.3 for the mean absolute error, which isn't too terrible. It means that on average our predictions are only off by 0.3 when fitting."
   ]
  },
  {
   "cell_type": "markdown",
   "id": "d7671207-31e3-49db-865d-a523417d7c5f",
   "metadata": {},
   "source": [
    "In order to check the accuracy of our model, we need to round our predicted values; reason being that the sigmoid activation function outputs values between 0 and 1, so rounding the predicted values would allow us to compare them against the true values. We also use a helper function to get the F1 accuracy score which takes into consideration the distributions of 1's and 0's. Even though the performance of this model is good, the result shows that our accuracy ranges widley and is inconsistent which deems this model to be unreliable; however having more data or adjusting the parameters can help yield better performance."
   ]
  },
  {
   "cell_type": "markdown",
   "id": "dba85b11-a64e-48dd-b950-2a4f0a99a110",
   "metadata": {},
   "source": [
    "### Neural network model #2"
   ]
  },
  {
   "cell_type": "code",
   "execution_count": 37,
   "id": "068433cd-6d4b-4f18-a6f9-7704f9deea56",
   "metadata": {},
   "outputs": [],
   "source": [
    "# create model 2\n",
    "modnn_2 <- keras_model_sequential() %>%\n",
    "    layer_dense(units = 20, activation = 'sigmoid', input_shape = ncol(train)) %>%\n",
    "    layer_dense(units = 20, activation = 'relu') %>%\n",
    "    layer_dense(units = 20, activation = 'tanh') %>%\n",
    "    layer_dense(units = 1, activation = 'sigmoid')"
   ]
  },
  {
   "cell_type": "code",
   "execution_count": 38,
   "id": "8a24688e-d885-4f5f-99d9-05bfc5e12f80",
   "metadata": {},
   "outputs": [
    {
     "name": "stdout",
     "output_type": "stream",
     "text": [
      "Model: \"sequential_1\"\n",
      "________________________________________________________________________________\n",
      " Layer (type)                       Output Shape                    Param #     \n",
      "================================================================================\n",
      " dense_5 (Dense)                    (None, 20)                      640         \n",
      " dense_4 (Dense)                    (None, 20)                      420         \n",
      " dense_3 (Dense)                    (None, 20)                      420         \n",
      " dense_2 (Dense)                    (None, 1)                       21          \n",
      "================================================================================\n",
      "Total params: 1,501\n",
      "Trainable params: 1,501\n",
      "Non-trainable params: 0\n",
      "________________________________________________________________________________\n"
     ]
    }
   ],
   "source": [
    "# compile model 2\n",
    "modnn_2 %>% compile(loss=\"mse\", optimizer=optimizer_rmsprop(), metrics = list(\"mean_absolute_error\"))\n",
    "\n",
    "# check it to make sure it is valid...\n",
    "summary(modnn_2)"
   ]
  },
  {
   "cell_type": "code",
   "execution_count": 39,
   "id": "77ae7542-2d86-41c7-b84c-c295775b5e4a",
   "metadata": {},
   "outputs": [
    {
     "data": {
      "image/png": "[encoded data removed]",
      "text/plain": [
       "plot without title"
      ]
     },
     "metadata": {
      "image/png": {
       "height": 420,
       "width": 420
      }
     },
     "output_type": "display_data"
    }
   ],
   "source": [
    "# fit model 2\n",
    "history <- modnn_2 %>% fit(train_x, train_y, epochs=100, batch_size=32, validation_split = 0.1)\n",
    "\n",
    "# plot performance\n",
    "plot(history)"
   ]
  },
  {
   "cell_type": "code",
   "execution_count": 40,
   "id": "8d861340-b2bf-440b-b884-ea1511840cf2",
   "metadata": {},
   "outputs": [
    {
     "data": {
      "text/html": [
       "<style>\n",
       ".dl-inline {width: auto; margin:0; padding: 0}\n",
       ".dl-inline>dt, .dl-inline>dd {float: none; width: auto; display: inline-block}\n",
       ".dl-inline>dt::after {content: \":\\0020\"; padding-right: .5ex}\n",
       ".dl-inline>dt:not(:first-of-type) {padding-left: .5ex}\n",
       "</style><dl class=dl-inline><dt>loss</dt><dd>0.0228330660611391</dd><dt>mean_absolute_error</dt><dd>0.0274998247623444</dd></dl>\n"
      ],
      "text/latex": [
       "\\begin{description*}\n",
       "\\item[loss] 0.0228330660611391\n",
       "\\item[mean\\textbackslash{}\\_absolute\\textbackslash{}\\_error] 0.0274998247623444\n",
       "\\end{description*}\n"
      ],
      "text/markdown": [
       "loss\n",
       ":   0.0228330660611391mean_absolute_error\n",
       ":   0.0274998247623444\n",
       "\n"
      ],
      "text/plain": [
       "               loss mean_absolute_error \n",
       "         0.02283307          0.02749982 "
      ]
     },
     "metadata": {},
     "output_type": "display_data"
    }
   ],
   "source": [
    "# check performance\n",
    "modnn_2 %>% evaluate(test_x, test_y, verbose = 0)"
   ]
  },
  {
   "cell_type": "code",
   "execution_count": 41,
   "id": "67cbd414-6f02-455b-b41f-a528272c15b6",
   "metadata": {},
   "outputs": [
    {
     "data": {
      "text/html": [
       "0.96969696969697"
      ],
      "text/latex": [
       "0.96969696969697"
      ],
      "text/markdown": [
       "0.96969696969697"
      ],
      "text/plain": [
       "[1] 0.969697"
      ]
     },
     "metadata": {},
     "output_type": "display_data"
    }
   ],
   "source": [
    "# predicted values\n",
    "P <- round(predict(modnn_2,test_x))\n",
    "\n",
    "# check accuracy\n",
    "get_accuracy(test_y,P)"
   ]
  },
  {
   "cell_type": "markdown",
   "id": "903e16a7-d517-4e22-b8d1-e2eca0a5db72",
   "metadata": {},
   "source": [
    "For this second model, we're looking to improve the performance by making adjustments to the parameters such as the number of layers, the number of neuron units used for each layer, different activation functions, validation split, and epoch size when fitting. We added 2 more layers to this model and increased the number of neuron units to 20 for each layer besides the output layer. The 2 layers added use retified linear unit and hyperbolic tangent activation functions. When fitting this model against the training set, we increased the epochs to 100 and reduce the validation split to 10% of the training set."
   ]
  },
  {
   "cell_type": "markdown",
   "id": "af4cce51-af17-4a80-9335-df027cf18e5d",
   "metadata": {},
   "source": [
    "Based on the results shown above, this new model returned more consistent loss function and mean abosolute error scores. The loss function score we got is around 0.02 and the mean absolute error score is around 0.03. This means that on average our model's predictions are only off by 0.03. This is 10 times lower than mean absolute error score for the previous model. We also got a much more consistent and higher F1 accuracy score. Our new model returned a consistent 96% accuracy outperforming our first model. By adjusting the parameters and epoch size, we were able to get better and more consistent performance out of neural network classifcation."
   ]
  },
  {
   "cell_type": "markdown",
   "id": "be2924d0-4cd9-4eef-bd02-6735aef1a396",
   "metadata": {},
   "source": [
    "### Comparisons between SVM, decision tree, and neural network model"
   ]
  },
  {
   "cell_type": "markdown",
   "id": "1532e61f-b349-4549-b48d-b1237a30b2a4",
   "metadata": {},
   "source": [
    "For this part, we are looking to compare our SVM and decision tree models against our neural network model. The SVM model has an accuracy score of 97% which is really accurate, but as mentioned, this could be due to overfitting. When compared to our final neural network model, it performs similarly in terms of accuracy. The decision tree model has an accuracy score of 91% which makes it also a good model, however we believe that out of the 3 models, neural network would have the most consistent performance when it comes to testing in the real world."
   ]
  },
  {
   "cell_type": "code",
   "execution_count": null,
   "id": "64a5fc1e-6e0b-4ee9-8a4d-7a4ea3f19918",
   "metadata": {},
   "outputs": [],
   "source": []
  }
 ],
 "metadata": {
  "kernelspec": {
   "display_name": "R",
   "language": "R",
   "name": "ir"
  },
  "language_info": {
   "codemirror_mode": "r",
   "file_extension": ".r",
   "mimetype": "text/x-r-source",
   "name": "R",
   "pygments_lexer": "r",
   "version": "4.1.3"
  }
 },
 "nbformat": 4,
 "nbformat_minor": 5
}
